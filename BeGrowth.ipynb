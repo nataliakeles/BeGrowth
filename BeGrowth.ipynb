{
 "cells": [
  {
   "cell_type": "code",
   "execution_count": 296,
   "metadata": {},
   "outputs": [],
   "source": [
    "import pandas as pd\n",
    "import numpy as np\n",
    "import matplotlib.pyplot as plt\n",
    "import scipy.stats as sct\n",
    "import seaborn as sns\n",
    "import statsmodels.stats.api as sms"
   ]
  },
  {
   "cell_type": "code",
   "execution_count": 322,
   "metadata": {},
   "outputs": [],
   "source": [
    "image = pd.read_excel('Image.xlsx')\n",
    "text = pd.read_excel('Txt.xlsx')\n",
    "desc = pd.read_excel('Desc.xlsx')\n",
    "head = pd.read_excel('Head.xlsx')"
   ]
  },
  {
   "cell_type": "markdown",
   "metadata": {},
   "source": [
    "## Lista de Anúncios que devem ser reavaliados prioritáriamente para otimizar o CPL"
   ]
  },
  {
   "cell_type": "markdown",
   "metadata": {},
   "source": [
    "Abaixo são apresentadas as listas dos anúncios que devem ser tratados para reduzir o CPL.\n",
    "\n",
    "Ordem das listas:\n",
    "\n",
    "1-Image, Video and Slideshow\n",
    "\n",
    "2-Text\n",
    "\n",
    "3-Description\n",
    "\n",
    "4-Headline\n"
   ]
  },
  {
   "cell_type": "code",
   "execution_count": 379,
   "metadata": {},
   "outputs": [
    {
     "data": {
      "text/html": [
       "<div>\n",
       "<style scoped>\n",
       "    .dataframe tbody tr th:only-of-type {\n",
       "        vertical-align: middle;\n",
       "    }\n",
       "\n",
       "    .dataframe tbody tr th {\n",
       "        vertical-align: top;\n",
       "    }\n",
       "\n",
       "    .dataframe thead th {\n",
       "        text-align: right;\n",
       "    }\n",
       "</style>\n",
       "<table border=\"1\" class=\"dataframe\">\n",
       "  <thead>\n",
       "    <tr style=\"text-align: right;\">\n",
       "      <th></th>\n",
       "      <th>Reporting Starts</th>\n",
       "      <th>Reporting Ends</th>\n",
       "      <th>Ad Name</th>\n",
       "      <th>Image, Video and Slideshow</th>\n",
       "      <th>Campaign Name</th>\n",
       "      <th>Campaign ID</th>\n",
       "      <th>Ad Set Name</th>\n",
       "      <th>Ad Set ID</th>\n",
       "      <th>Ad ID</th>\n",
       "      <th>Ad Delivery</th>\n",
       "      <th>...</th>\n",
       "      <th>Unique Outbound CTR (Click-Through Rate)</th>\n",
       "      <th>CTR (Link Click-Through Rate)</th>\n",
       "      <th>Cost per 1,000 People Reached (BRL)</th>\n",
       "      <th>CPM (Cost per 1,000 Impressions) (BRL)</th>\n",
       "      <th>Results</th>\n",
       "      <th>Result Indicator</th>\n",
       "      <th>Cost per Results</th>\n",
       "      <th>Quiz Lead</th>\n",
       "      <th>Cost per Action Type Quiz Lead</th>\n",
       "      <th>Ends</th>\n",
       "    </tr>\n",
       "  </thead>\n",
       "  <tbody>\n",
       "    <tr>\n",
       "      <th>19</th>\n",
       "      <td>2020-05-24</td>\n",
       "      <td>2020-05-24</td>\n",
       "      <td>001 - [FACEBOOK] QUIZ 11 [DYNAMIC CREATIVE - V...</td>\n",
       "      <td>Video_26_FB_1080x1080_20.05.2020_ComLeganda_Se...</td>\n",
       "      <td>quiz11facebook</td>\n",
       "      <td>23844831609730532</td>\n",
       "      <td>002 - [FACEBOOK] QUIZ 11 - [FPR-EXCLUDE PG-30D...</td>\n",
       "      <td>23844831609710532</td>\n",
       "      <td>23844831609770532</td>\n",
       "      <td>active</td>\n",
       "      <td>...</td>\n",
       "      <td>NaN</td>\n",
       "      <td>0.237107</td>\n",
       "      <td>5.446631</td>\n",
       "      <td>5.430488</td>\n",
       "      <td>2.0</td>\n",
       "      <td>actions:offsite_conversion.custom.220987758966192</td>\n",
       "      <td>4.580616</td>\n",
       "      <td>2.0</td>\n",
       "      <td>4.580616</td>\n",
       "      <td>Contínuo</td>\n",
       "    </tr>\n",
       "    <tr>\n",
       "      <th>20</th>\n",
       "      <td>2020-05-24</td>\n",
       "      <td>2020-05-24</td>\n",
       "      <td>001 - [FACEBOOK] QUIZ 8 [DYNAMIC CREATIVE - VI...</td>\n",
       "      <td>Video_32_FB_1080x1080_20.05.2020_ComLeganda_Se...</td>\n",
       "      <td>quiz8facebook</td>\n",
       "      <td>23844831578580532</td>\n",
       "      <td>001 - [FACEBOOK] QUIZ 8 - [FPR-EXCLUDE PG-30D]...</td>\n",
       "      <td>23844831578570532</td>\n",
       "      <td>23844831578550532</td>\n",
       "      <td>active</td>\n",
       "      <td>...</td>\n",
       "      <td>NaN</td>\n",
       "      <td>0.407056</td>\n",
       "      <td>3.887301</td>\n",
       "      <td>3.879389</td>\n",
       "      <td>2.0</td>\n",
       "      <td>actions:offsite_conversion.custom.220987758966192</td>\n",
       "      <td>2.859110</td>\n",
       "      <td>2.0</td>\n",
       "      <td>2.859110</td>\n",
       "      <td>Contínuo</td>\n",
       "    </tr>\n",
       "    <tr>\n",
       "      <th>37</th>\n",
       "      <td>2020-05-24</td>\n",
       "      <td>2020-05-24</td>\n",
       "      <td>001 - [FACEBOOK] QUIZ 16 [DYNAMIC CREATIVE - V...</td>\n",
       "      <td>Video_31_FB_1080x1080_20.05.2020_ComLeganda_Se...</td>\n",
       "      <td>quiz16facebook</td>\n",
       "      <td>23844831707100532</td>\n",
       "      <td>001 - [FACEBOOK] QUIZ 16 - [FPR-EXCLUDE PG-30D...</td>\n",
       "      <td>23844831707120532</td>\n",
       "      <td>23844831707160532</td>\n",
       "      <td>active</td>\n",
       "      <td>...</td>\n",
       "      <td>NaN</td>\n",
       "      <td>0.406504</td>\n",
       "      <td>5.632257</td>\n",
       "      <td>5.593335</td>\n",
       "      <td>12.0</td>\n",
       "      <td>actions:offsite_conversion.custom.220987758966192</td>\n",
       "      <td>2.293267</td>\n",
       "      <td>12.0</td>\n",
       "      <td>2.293267</td>\n",
       "      <td>Contínuo</td>\n",
       "    </tr>\n",
       "    <tr>\n",
       "      <th>49</th>\n",
       "      <td>2020-05-24</td>\n",
       "      <td>2020-05-24</td>\n",
       "      <td>001 - [FACEBOOK] QUIZ 13 [DYNAMIC CREATIVE - V...</td>\n",
       "      <td>Video_27_FB_1080x1080_20.05.2020_ComLeganda_Se...</td>\n",
       "      <td>quiz13facebook</td>\n",
       "      <td>23844831647610532</td>\n",
       "      <td>001 - [FACEBOOK] QUIZ 13 - [FPR-EXCLUDE PG-30D...</td>\n",
       "      <td>23844831647580532</td>\n",
       "      <td>23844831647560532</td>\n",
       "      <td>active</td>\n",
       "      <td>...</td>\n",
       "      <td>NaN</td>\n",
       "      <td>0.494030</td>\n",
       "      <td>6.789161</td>\n",
       "      <td>6.671769</td>\n",
       "      <td>4.0</td>\n",
       "      <td>actions:offsite_conversion.custom.220987758966192</td>\n",
       "      <td>4.051432</td>\n",
       "      <td>4.0</td>\n",
       "      <td>4.051432</td>\n",
       "      <td>Contínuo</td>\n",
       "    </tr>\n",
       "    <tr>\n",
       "      <th>104</th>\n",
       "      <td>2020-05-24</td>\n",
       "      <td>2020-05-24</td>\n",
       "      <td>001 - [FACEBOOK] QUIZ 16 [DYNAMIC CREATIVE - V...</td>\n",
       "      <td>Video_28_FB_1080x1080_20.05.2020_ComLeganda_Se...</td>\n",
       "      <td>quiz16facebook</td>\n",
       "      <td>23844831707100532</td>\n",
       "      <td>001 - [FACEBOOK] QUIZ 16 - [FPR-EXCLUDE PG-30D...</td>\n",
       "      <td>23844831707120532</td>\n",
       "      <td>23844831707160532</td>\n",
       "      <td>active</td>\n",
       "      <td>...</td>\n",
       "      <td>NaN</td>\n",
       "      <td>0.527357</td>\n",
       "      <td>3.782903</td>\n",
       "      <td>3.663207</td>\n",
       "      <td>2.0</td>\n",
       "      <td>actions:offsite_conversion.custom.220987758966192</td>\n",
       "      <td>2.778542</td>\n",
       "      <td>2.0</td>\n",
       "      <td>2.778542</td>\n",
       "      <td>Contínuo</td>\n",
       "    </tr>\n",
       "    <tr>\n",
       "      <th>110</th>\n",
       "      <td>2020-05-24</td>\n",
       "      <td>2020-05-24</td>\n",
       "      <td>001 - [FACEBOOK] QUIZ 15 [DYNAMIC CREATIVE - V...</td>\n",
       "      <td>Video_29_FB_1080x1080_20.05.2020_ComLeganda_Se...</td>\n",
       "      <td>quiz15facebook</td>\n",
       "      <td>23844831670160532</td>\n",
       "      <td>003 - [FACEBOOK] QUIZ 15 - [FPR-EXCLUDE PG-30D...</td>\n",
       "      <td>23844831670200532</td>\n",
       "      <td>23844831670180532</td>\n",
       "      <td>active</td>\n",
       "      <td>...</td>\n",
       "      <td>NaN</td>\n",
       "      <td>0.143403</td>\n",
       "      <td>3.600954</td>\n",
       "      <td>3.576856</td>\n",
       "      <td>1.0</td>\n",
       "      <td>actions:offsite_conversion.custom.220987758966192</td>\n",
       "      <td>7.482782</td>\n",
       "      <td>1.0</td>\n",
       "      <td>7.482782</td>\n",
       "      <td>Contínuo</td>\n",
       "    </tr>\n",
       "    <tr>\n",
       "      <th>127</th>\n",
       "      <td>2020-05-24</td>\n",
       "      <td>2020-05-24</td>\n",
       "      <td>001 - [FACEBOOK] QUIZ 15 [DYNAMIC CREATIVE - V...</td>\n",
       "      <td>Video_26_FB_1080x1080_20.05.2020_ComLeganda_Se...</td>\n",
       "      <td>quiz15facebook</td>\n",
       "      <td>23844831670160532</td>\n",
       "      <td>003 - [FACEBOOK] QUIZ 15 - [FPR-EXCLUDE PG-30D...</td>\n",
       "      <td>23844831670200532</td>\n",
       "      <td>23844831670180532</td>\n",
       "      <td>active</td>\n",
       "      <td>...</td>\n",
       "      <td>NaN</td>\n",
       "      <td>0.790033</td>\n",
       "      <td>5.927145</td>\n",
       "      <td>5.743441</td>\n",
       "      <td>6.0</td>\n",
       "      <td>actions:offsite_conversion.custom.220987758966192</td>\n",
       "      <td>3.150277</td>\n",
       "      <td>6.0</td>\n",
       "      <td>3.150277</td>\n",
       "      <td>Contínuo</td>\n",
       "    </tr>\n",
       "    <tr>\n",
       "      <th>184</th>\n",
       "      <td>2020-05-24</td>\n",
       "      <td>2020-05-24</td>\n",
       "      <td>001 - [FACEBOOK] QUIZ 14 [DYNAMIC CREATIVE - V...</td>\n",
       "      <td>Video_32_FB_1080x1080_20.05.2020_ComLeganda_Se...</td>\n",
       "      <td>quiz14facebook</td>\n",
       "      <td>23844831670230532</td>\n",
       "      <td>003 - [FACEBOOK] QUIZ 14 - [FPR-EXCLUDE PG-30D...</td>\n",
       "      <td>23844831670240532</td>\n",
       "      <td>23844831670270532</td>\n",
       "      <td>active</td>\n",
       "      <td>...</td>\n",
       "      <td>NaN</td>\n",
       "      <td>0.940249</td>\n",
       "      <td>10.786205</td>\n",
       "      <td>10.701145</td>\n",
       "      <td>15.0</td>\n",
       "      <td>actions:offsite_conversion.custom.220987758966192</td>\n",
       "      <td>2.352112</td>\n",
       "      <td>15.0</td>\n",
       "      <td>2.352112</td>\n",
       "      <td>Contínuo</td>\n",
       "    </tr>\n",
       "    <tr>\n",
       "      <th>188</th>\n",
       "      <td>2020-05-24</td>\n",
       "      <td>2020-05-24</td>\n",
       "      <td>001 - [FACEBOOK] QUIZ 9 [DYNAMIC CREATIVE - VI...</td>\n",
       "      <td>Video_26_FB_1080x1080_20.05.2020_ComLeganda_Se...</td>\n",
       "      <td>quiz9facebook</td>\n",
       "      <td>23844831591300532</td>\n",
       "      <td>003 - [FACEBOOK] QUIZ 9 - [FPR-EXCLUDE PG-30D]...</td>\n",
       "      <td>23844831591320532</td>\n",
       "      <td>23844831591280532</td>\n",
       "      <td>active</td>\n",
       "      <td>...</td>\n",
       "      <td>NaN</td>\n",
       "      <td>1.204819</td>\n",
       "      <td>9.460326</td>\n",
       "      <td>9.263053</td>\n",
       "      <td>8.0</td>\n",
       "      <td>actions:offsite_conversion.custom.220987758966192</td>\n",
       "      <td>2.498709</td>\n",
       "      <td>8.0</td>\n",
       "      <td>2.498709</td>\n",
       "      <td>Contínuo</td>\n",
       "    </tr>\n",
       "    <tr>\n",
       "      <th>194</th>\n",
       "      <td>2020-05-24</td>\n",
       "      <td>2020-05-24</td>\n",
       "      <td>001 - [FACEBOOK] QUIZ 8 [DYNAMIC CREATIVE - VI...</td>\n",
       "      <td>Video_28_FB_1080x1080_20.05.2020_ComLeganda_Se...</td>\n",
       "      <td>quiz8facebook</td>\n",
       "      <td>23844831578580532</td>\n",
       "      <td>002 - [FACEBOOK] QUIZ 8 - [FPR-EXCLUDE PG-30D]...</td>\n",
       "      <td>23844831578600532</td>\n",
       "      <td>23844831578590532</td>\n",
       "      <td>active</td>\n",
       "      <td>...</td>\n",
       "      <td>NaN</td>\n",
       "      <td>1.115486</td>\n",
       "      <td>6.740596</td>\n",
       "      <td>6.700790</td>\n",
       "      <td>4.0</td>\n",
       "      <td>actions:offsite_conversion.custom.220987758966192</td>\n",
       "      <td>2.553001</td>\n",
       "      <td>4.0</td>\n",
       "      <td>2.553001</td>\n",
       "      <td>Contínuo</td>\n",
       "    </tr>\n",
       "    <tr>\n",
       "      <th>198</th>\n",
       "      <td>2020-05-24</td>\n",
       "      <td>2020-05-24</td>\n",
       "      <td>001 - [FACEBOOK] QUIZ 3 [DYNAMIC CREATIVE - VI...</td>\n",
       "      <td>Video_13_FB_1080x1080_21.04.2020_Legendado.mp4...</td>\n",
       "      <td>quiz3facebook</td>\n",
       "      <td>23844801493470532</td>\n",
       "      <td>001 - [FACEBOOK] QUIZ 3 - [FPR-EXCLUDE PG-30D]...</td>\n",
       "      <td>23844801493460532</td>\n",
       "      <td>23844801493490532</td>\n",
       "      <td>active</td>\n",
       "      <td>...</td>\n",
       "      <td>NaN</td>\n",
       "      <td>0.811908</td>\n",
       "      <td>9.713504</td>\n",
       "      <td>9.713504</td>\n",
       "      <td>2.0</td>\n",
       "      <td>actions:offsite_conversion.custom.220987758966192</td>\n",
       "      <td>3.589140</td>\n",
       "      <td>2.0</td>\n",
       "      <td>3.589140</td>\n",
       "      <td>Contínuo</td>\n",
       "    </tr>\n",
       "    <tr>\n",
       "      <th>199</th>\n",
       "      <td>2020-05-24</td>\n",
       "      <td>2020-05-24</td>\n",
       "      <td>001 - [FACEBOOK] QUIZ 8 [DYNAMIC CREATIVE - VI...</td>\n",
       "      <td>Video_29_FB_1080x1080_20.05.2020_ComLeganda_Se...</td>\n",
       "      <td>quiz8facebook</td>\n",
       "      <td>23844831578580532</td>\n",
       "      <td>001 - [FACEBOOK] QUIZ 8 - [FPR-EXCLUDE PG-30D]...</td>\n",
       "      <td>23844831578570532</td>\n",
       "      <td>23844831578550532</td>\n",
       "      <td>active</td>\n",
       "      <td>...</td>\n",
       "      <td>NaN</td>\n",
       "      <td>0.958466</td>\n",
       "      <td>7.790523</td>\n",
       "      <td>7.753188</td>\n",
       "      <td>2.0</td>\n",
       "      <td>actions:offsite_conversion.custom.220987758966192</td>\n",
       "      <td>2.426748</td>\n",
       "      <td>2.0</td>\n",
       "      <td>2.426748</td>\n",
       "      <td>Contínuo</td>\n",
       "    </tr>\n",
       "    <tr>\n",
       "      <th>202</th>\n",
       "      <td>2020-05-24</td>\n",
       "      <td>2020-05-24</td>\n",
       "      <td>001 - [FACEBOOK] QUIZ 3 [DYNAMIC CREATIVE - VI...</td>\n",
       "      <td>Video_11_FB_1080x1080_21.04.2020_Legendado.mp4...</td>\n",
       "      <td>quiz3facebook</td>\n",
       "      <td>23844801493470532</td>\n",
       "      <td>001 - [FACEBOOK] QUIZ 3 - [FPR-EXCLUDE PG-30D]...</td>\n",
       "      <td>23844801493460532</td>\n",
       "      <td>23844801493490532</td>\n",
       "      <td>active</td>\n",
       "      <td>...</td>\n",
       "      <td>NaN</td>\n",
       "      <td>0.250941</td>\n",
       "      <td>9.171139</td>\n",
       "      <td>9.125111</td>\n",
       "      <td>1.0</td>\n",
       "      <td>actions:offsite_conversion.custom.220987758966192</td>\n",
       "      <td>7.272713</td>\n",
       "      <td>1.0</td>\n",
       "      <td>7.272713</td>\n",
       "      <td>Contínuo</td>\n",
       "    </tr>\n",
       "    <tr>\n",
       "      <th>222</th>\n",
       "      <td>2020-05-24</td>\n",
       "      <td>2020-05-24</td>\n",
       "      <td>001 - [FACEBOOK] QUIZ 6 [DYNAMIC CREATIVE - VI...</td>\n",
       "      <td>Video_33_FB_1080x1080_20.05.2020_ComLeganda_Se...</td>\n",
       "      <td>quiz6facebook</td>\n",
       "      <td>23844831302630532</td>\n",
       "      <td>001 - [FACEBOOK] QUIZ 6 - [FPR-EXCLUDE PG-30D]...</td>\n",
       "      <td>23844831302680532</td>\n",
       "      <td>23844831302650532</td>\n",
       "      <td>active</td>\n",
       "      <td>...</td>\n",
       "      <td>NaN</td>\n",
       "      <td>2.808989</td>\n",
       "      <td>14.124301</td>\n",
       "      <td>14.124301</td>\n",
       "      <td>1.0</td>\n",
       "      <td>actions:offsite_conversion.custom.220987758966192</td>\n",
       "      <td>2.514126</td>\n",
       "      <td>1.0</td>\n",
       "      <td>2.514126</td>\n",
       "      <td>Contínuo</td>\n",
       "    </tr>\n",
       "    <tr>\n",
       "      <th>309</th>\n",
       "      <td>2020-05-24</td>\n",
       "      <td>2020-05-24</td>\n",
       "      <td>001 - [FACEBOOK] QUIZ 12 [DYNAMIC CREATIVE - V...</td>\n",
       "      <td>Video_30_FB_1080x1080_20.05.2020_ComLeganda_Se...</td>\n",
       "      <td>quiz12facebook</td>\n",
       "      <td>23844831625410532</td>\n",
       "      <td>003 - [FACEBOOK] QUIZ 12 - [FPR-EXCLUDE PG-30D...</td>\n",
       "      <td>23844831625390532</td>\n",
       "      <td>23844831625370532</td>\n",
       "      <td>active</td>\n",
       "      <td>...</td>\n",
       "      <td>NaN</td>\n",
       "      <td>0.809389</td>\n",
       "      <td>3.991575</td>\n",
       "      <td>3.836499</td>\n",
       "      <td>4.0</td>\n",
       "      <td>actions:offsite_conversion.custom.220987758966192</td>\n",
       "      <td>2.369997</td>\n",
       "      <td>4.0</td>\n",
       "      <td>2.369997</td>\n",
       "      <td>Contínuo</td>\n",
       "    </tr>\n",
       "    <tr>\n",
       "      <th>345</th>\n",
       "      <td>2020-05-24</td>\n",
       "      <td>2020-05-24</td>\n",
       "      <td>001 - [FACEBOOK] QUIZ 4 [DYNAMIC CREATIVE - VI...</td>\n",
       "      <td>Video_31_FB_1080x1080_20.05.2020_ComLeganda_Se...</td>\n",
       "      <td>quiz4facebook</td>\n",
       "      <td>23844809152490532</td>\n",
       "      <td>001 - [FACEBOOK] QUIZ 4 - [FPR-EXCLUDE PG-30D]...</td>\n",
       "      <td>23844809152520532</td>\n",
       "      <td>23844809152510532</td>\n",
       "      <td>active</td>\n",
       "      <td>...</td>\n",
       "      <td>NaN</td>\n",
       "      <td>0.589302</td>\n",
       "      <td>4.287458</td>\n",
       "      <td>4.207773</td>\n",
       "      <td>4.0</td>\n",
       "      <td>actions:offsite_conversion.custom.220987758966192</td>\n",
       "      <td>2.320587</td>\n",
       "      <td>4.0</td>\n",
       "      <td>2.320587</td>\n",
       "      <td>Contínuo</td>\n",
       "    </tr>\n",
       "    <tr>\n",
       "      <th>353</th>\n",
       "      <td>2020-05-24</td>\n",
       "      <td>2020-05-24</td>\n",
       "      <td>001 - [FACEBOOK] QUIZ 11 [DYNAMIC CREATIVE - V...</td>\n",
       "      <td>Video_32_FB_1080x1080_20.05.2020_ComLeganda_Se...</td>\n",
       "      <td>quiz11facebook</td>\n",
       "      <td>23844831609730532</td>\n",
       "      <td>003 - [FACEBOOK] QUIZ 11 - [FPR-EXCLUDE PG-30D...</td>\n",
       "      <td>23844831609760532</td>\n",
       "      <td>23844831609750532</td>\n",
       "      <td>active</td>\n",
       "      <td>...</td>\n",
       "      <td>NaN</td>\n",
       "      <td>1.134752</td>\n",
       "      <td>4.966976</td>\n",
       "      <td>4.762661</td>\n",
       "      <td>1.0</td>\n",
       "      <td>actions:offsite_conversion.custom.220987758966192</td>\n",
       "      <td>3.357676</td>\n",
       "      <td>1.0</td>\n",
       "      <td>3.357676</td>\n",
       "      <td>Contínuo</td>\n",
       "    </tr>\n",
       "    <tr>\n",
       "      <th>354</th>\n",
       "      <td>2020-05-24</td>\n",
       "      <td>2020-05-24</td>\n",
       "      <td>001 - [FACEBOOK] QUIZ 12 [DYNAMIC CREATIVE - V...</td>\n",
       "      <td>Video_27_FB_1080x1080_20.05.2020_ComLeganda_Se...</td>\n",
       "      <td>quiz12facebook</td>\n",
       "      <td>23844831625410532</td>\n",
       "      <td>002 - [FACEBOOK] QUIZ 12 - [FPR-EXCLUDE PG-30D...</td>\n",
       "      <td>23844831625360532</td>\n",
       "      <td>23844831625400532</td>\n",
       "      <td>active</td>\n",
       "      <td>...</td>\n",
       "      <td>NaN</td>\n",
       "      <td>0.948509</td>\n",
       "      <td>4.022894</td>\n",
       "      <td>3.684928</td>\n",
       "      <td>1.0</td>\n",
       "      <td>actions:offsite_conversion.custom.220987758966192</td>\n",
       "      <td>2.719477</td>\n",
       "      <td>1.0</td>\n",
       "      <td>2.719477</td>\n",
       "      <td>Contínuo</td>\n",
       "    </tr>\n",
       "    <tr>\n",
       "      <th>404</th>\n",
       "      <td>2020-05-24</td>\n",
       "      <td>2020-05-24</td>\n",
       "      <td>001 - [FACEBOOK] QUIZ 3 [DYNAMIC CREATIVE - VI...</td>\n",
       "      <td>Video_19.01_FB_1080x1080_06.05.2020_ComLegenda...</td>\n",
       "      <td>quiz3facebook</td>\n",
       "      <td>23844801493470532</td>\n",
       "      <td>002 - [FACEBOOK] QUIZ 3 - [FPR-EXCLUDE PG-30D]...</td>\n",
       "      <td>23844801493520532</td>\n",
       "      <td>23844801493510532</td>\n",
       "      <td>active</td>\n",
       "      <td>...</td>\n",
       "      <td>NaN</td>\n",
       "      <td>1.694915</td>\n",
       "      <td>9.429773</td>\n",
       "      <td>9.298151</td>\n",
       "      <td>2.0</td>\n",
       "      <td>actions:offsite_conversion.custom.220987758966192</td>\n",
       "      <td>4.663023</td>\n",
       "      <td>2.0</td>\n",
       "      <td>4.663023</td>\n",
       "      <td>Contínuo</td>\n",
       "    </tr>\n",
       "    <tr>\n",
       "      <th>406</th>\n",
       "      <td>2020-05-24</td>\n",
       "      <td>2020-05-24</td>\n",
       "      <td>001 - [FACEBOOK] QUIZ 3 [DYNAMIC CREATIVE - VI...</td>\n",
       "      <td>Video_06_FB_1080x1080_16.04.2020_Legendado_Mús...</td>\n",
       "      <td>quiz3facebook</td>\n",
       "      <td>23844801493470532</td>\n",
       "      <td>001 - [FACEBOOK] QUIZ 3 - [FPR-EXCLUDE PG-30D]...</td>\n",
       "      <td>23844801493460532</td>\n",
       "      <td>23844801493490532</td>\n",
       "      <td>active</td>\n",
       "      <td>...</td>\n",
       "      <td>NaN</td>\n",
       "      <td>1.230228</td>\n",
       "      <td>7.849121</td>\n",
       "      <td>7.849121</td>\n",
       "      <td>2.0</td>\n",
       "      <td>actions:offsite_conversion.custom.220987758966192</td>\n",
       "      <td>2.233075</td>\n",
       "      <td>2.0</td>\n",
       "      <td>2.233075</td>\n",
       "      <td>Contínuo</td>\n",
       "    </tr>\n",
       "    <tr>\n",
       "      <th>434</th>\n",
       "      <td>2020-05-24</td>\n",
       "      <td>2020-05-24</td>\n",
       "      <td>001 - [FACEBOOK] QUIZ 5 [DYNAMIC CREATIVE - VI...</td>\n",
       "      <td>Video_28_FB_1080x1080_20.05.2020_ComLeganda_Se...</td>\n",
       "      <td>quiz5facebook</td>\n",
       "      <td>23844831094090532</td>\n",
       "      <td>002 - [FACEBOOK] QUIZ 5 - [FPR-EXCLUDE PG-30D]...</td>\n",
       "      <td>23844831094130532</td>\n",
       "      <td>23844831094100532</td>\n",
       "      <td>active</td>\n",
       "      <td>...</td>\n",
       "      <td>NaN</td>\n",
       "      <td>0.834671</td>\n",
       "      <td>4.203443</td>\n",
       "      <td>4.131924</td>\n",
       "      <td>5.0</td>\n",
       "      <td>actions:offsite_conversion.custom.220987758966192</td>\n",
       "      <td>2.574189</td>\n",
       "      <td>5.0</td>\n",
       "      <td>2.574189</td>\n",
       "      <td>Contínuo</td>\n",
       "    </tr>\n",
       "  </tbody>\n",
       "</table>\n",
       "<p>21 rows × 28 columns</p>\n",
       "</div>"
      ],
      "text/plain": [
       "    Reporting Starts Reporting Ends  \\\n",
       "19        2020-05-24     2020-05-24   \n",
       "20        2020-05-24     2020-05-24   \n",
       "37        2020-05-24     2020-05-24   \n",
       "49        2020-05-24     2020-05-24   \n",
       "104       2020-05-24     2020-05-24   \n",
       "110       2020-05-24     2020-05-24   \n",
       "127       2020-05-24     2020-05-24   \n",
       "184       2020-05-24     2020-05-24   \n",
       "188       2020-05-24     2020-05-24   \n",
       "194       2020-05-24     2020-05-24   \n",
       "198       2020-05-24     2020-05-24   \n",
       "199       2020-05-24     2020-05-24   \n",
       "202       2020-05-24     2020-05-24   \n",
       "222       2020-05-24     2020-05-24   \n",
       "309       2020-05-24     2020-05-24   \n",
       "345       2020-05-24     2020-05-24   \n",
       "353       2020-05-24     2020-05-24   \n",
       "354       2020-05-24     2020-05-24   \n",
       "404       2020-05-24     2020-05-24   \n",
       "406       2020-05-24     2020-05-24   \n",
       "434       2020-05-24     2020-05-24   \n",
       "\n",
       "                                               Ad Name  \\\n",
       "19   001 - [FACEBOOK] QUIZ 11 [DYNAMIC CREATIVE - V...   \n",
       "20   001 - [FACEBOOK] QUIZ 8 [DYNAMIC CREATIVE - VI...   \n",
       "37   001 - [FACEBOOK] QUIZ 16 [DYNAMIC CREATIVE - V...   \n",
       "49   001 - [FACEBOOK] QUIZ 13 [DYNAMIC CREATIVE - V...   \n",
       "104  001 - [FACEBOOK] QUIZ 16 [DYNAMIC CREATIVE - V...   \n",
       "110  001 - [FACEBOOK] QUIZ 15 [DYNAMIC CREATIVE - V...   \n",
       "127  001 - [FACEBOOK] QUIZ 15 [DYNAMIC CREATIVE - V...   \n",
       "184  001 - [FACEBOOK] QUIZ 14 [DYNAMIC CREATIVE - V...   \n",
       "188  001 - [FACEBOOK] QUIZ 9 [DYNAMIC CREATIVE - VI...   \n",
       "194  001 - [FACEBOOK] QUIZ 8 [DYNAMIC CREATIVE - VI...   \n",
       "198  001 - [FACEBOOK] QUIZ 3 [DYNAMIC CREATIVE - VI...   \n",
       "199  001 - [FACEBOOK] QUIZ 8 [DYNAMIC CREATIVE - VI...   \n",
       "202  001 - [FACEBOOK] QUIZ 3 [DYNAMIC CREATIVE - VI...   \n",
       "222  001 - [FACEBOOK] QUIZ 6 [DYNAMIC CREATIVE - VI...   \n",
       "309  001 - [FACEBOOK] QUIZ 12 [DYNAMIC CREATIVE - V...   \n",
       "345  001 - [FACEBOOK] QUIZ 4 [DYNAMIC CREATIVE - VI...   \n",
       "353  001 - [FACEBOOK] QUIZ 11 [DYNAMIC CREATIVE - V...   \n",
       "354  001 - [FACEBOOK] QUIZ 12 [DYNAMIC CREATIVE - V...   \n",
       "404  001 - [FACEBOOK] QUIZ 3 [DYNAMIC CREATIVE - VI...   \n",
       "406  001 - [FACEBOOK] QUIZ 3 [DYNAMIC CREATIVE - VI...   \n",
       "434  001 - [FACEBOOK] QUIZ 5 [DYNAMIC CREATIVE - VI...   \n",
       "\n",
       "                            Image, Video and Slideshow   Campaign Name  \\\n",
       "19   Video_26_FB_1080x1080_20.05.2020_ComLeganda_Se...  quiz11facebook   \n",
       "20   Video_32_FB_1080x1080_20.05.2020_ComLeganda_Se...   quiz8facebook   \n",
       "37   Video_31_FB_1080x1080_20.05.2020_ComLeganda_Se...  quiz16facebook   \n",
       "49   Video_27_FB_1080x1080_20.05.2020_ComLeganda_Se...  quiz13facebook   \n",
       "104  Video_28_FB_1080x1080_20.05.2020_ComLeganda_Se...  quiz16facebook   \n",
       "110  Video_29_FB_1080x1080_20.05.2020_ComLeganda_Se...  quiz15facebook   \n",
       "127  Video_26_FB_1080x1080_20.05.2020_ComLeganda_Se...  quiz15facebook   \n",
       "184  Video_32_FB_1080x1080_20.05.2020_ComLeganda_Se...  quiz14facebook   \n",
       "188  Video_26_FB_1080x1080_20.05.2020_ComLeganda_Se...   quiz9facebook   \n",
       "194  Video_28_FB_1080x1080_20.05.2020_ComLeganda_Se...   quiz8facebook   \n",
       "198  Video_13_FB_1080x1080_21.04.2020_Legendado.mp4...   quiz3facebook   \n",
       "199  Video_29_FB_1080x1080_20.05.2020_ComLeganda_Se...   quiz8facebook   \n",
       "202  Video_11_FB_1080x1080_21.04.2020_Legendado.mp4...   quiz3facebook   \n",
       "222  Video_33_FB_1080x1080_20.05.2020_ComLeganda_Se...   quiz6facebook   \n",
       "309  Video_30_FB_1080x1080_20.05.2020_ComLeganda_Se...  quiz12facebook   \n",
       "345  Video_31_FB_1080x1080_20.05.2020_ComLeganda_Se...   quiz4facebook   \n",
       "353  Video_32_FB_1080x1080_20.05.2020_ComLeganda_Se...  quiz11facebook   \n",
       "354  Video_27_FB_1080x1080_20.05.2020_ComLeganda_Se...  quiz12facebook   \n",
       "404  Video_19.01_FB_1080x1080_06.05.2020_ComLegenda...   quiz3facebook   \n",
       "406  Video_06_FB_1080x1080_16.04.2020_Legendado_Mús...   quiz3facebook   \n",
       "434  Video_28_FB_1080x1080_20.05.2020_ComLeganda_Se...   quiz5facebook   \n",
       "\n",
       "           Campaign ID                                        Ad Set Name  \\\n",
       "19   23844831609730532  002 - [FACEBOOK] QUIZ 11 - [FPR-EXCLUDE PG-30D...   \n",
       "20   23844831578580532  001 - [FACEBOOK] QUIZ 8 - [FPR-EXCLUDE PG-30D]...   \n",
       "37   23844831707100532  001 - [FACEBOOK] QUIZ 16 - [FPR-EXCLUDE PG-30D...   \n",
       "49   23844831647610532  001 - [FACEBOOK] QUIZ 13 - [FPR-EXCLUDE PG-30D...   \n",
       "104  23844831707100532  001 - [FACEBOOK] QUIZ 16 - [FPR-EXCLUDE PG-30D...   \n",
       "110  23844831670160532  003 - [FACEBOOK] QUIZ 15 - [FPR-EXCLUDE PG-30D...   \n",
       "127  23844831670160532  003 - [FACEBOOK] QUIZ 15 - [FPR-EXCLUDE PG-30D...   \n",
       "184  23844831670230532  003 - [FACEBOOK] QUIZ 14 - [FPR-EXCLUDE PG-30D...   \n",
       "188  23844831591300532  003 - [FACEBOOK] QUIZ 9 - [FPR-EXCLUDE PG-30D]...   \n",
       "194  23844831578580532  002 - [FACEBOOK] QUIZ 8 - [FPR-EXCLUDE PG-30D]...   \n",
       "198  23844801493470532  001 - [FACEBOOK] QUIZ 3 - [FPR-EXCLUDE PG-30D]...   \n",
       "199  23844831578580532  001 - [FACEBOOK] QUIZ 8 - [FPR-EXCLUDE PG-30D]...   \n",
       "202  23844801493470532  001 - [FACEBOOK] QUIZ 3 - [FPR-EXCLUDE PG-30D]...   \n",
       "222  23844831302630532  001 - [FACEBOOK] QUIZ 6 - [FPR-EXCLUDE PG-30D]...   \n",
       "309  23844831625410532  003 - [FACEBOOK] QUIZ 12 - [FPR-EXCLUDE PG-30D...   \n",
       "345  23844809152490532  001 - [FACEBOOK] QUIZ 4 - [FPR-EXCLUDE PG-30D]...   \n",
       "353  23844831609730532  003 - [FACEBOOK] QUIZ 11 - [FPR-EXCLUDE PG-30D...   \n",
       "354  23844831625410532  002 - [FACEBOOK] QUIZ 12 - [FPR-EXCLUDE PG-30D...   \n",
       "404  23844801493470532  002 - [FACEBOOK] QUIZ 3 - [FPR-EXCLUDE PG-30D]...   \n",
       "406  23844801493470532  001 - [FACEBOOK] QUIZ 3 - [FPR-EXCLUDE PG-30D]...   \n",
       "434  23844831094090532  002 - [FACEBOOK] QUIZ 5 - [FPR-EXCLUDE PG-30D]...   \n",
       "\n",
       "             Ad Set ID              Ad ID Ad Delivery  ...  \\\n",
       "19   23844831609710532  23844831609770532      active  ...   \n",
       "20   23844831578570532  23844831578550532      active  ...   \n",
       "37   23844831707120532  23844831707160532      active  ...   \n",
       "49   23844831647580532  23844831647560532      active  ...   \n",
       "104  23844831707120532  23844831707160532      active  ...   \n",
       "110  23844831670200532  23844831670180532      active  ...   \n",
       "127  23844831670200532  23844831670180532      active  ...   \n",
       "184  23844831670240532  23844831670270532      active  ...   \n",
       "188  23844831591320532  23844831591280532      active  ...   \n",
       "194  23844831578600532  23844831578590532      active  ...   \n",
       "198  23844801493460532  23844801493490532      active  ...   \n",
       "199  23844831578570532  23844831578550532      active  ...   \n",
       "202  23844801493460532  23844801493490532      active  ...   \n",
       "222  23844831302680532  23844831302650532      active  ...   \n",
       "309  23844831625390532  23844831625370532      active  ...   \n",
       "345  23844809152520532  23844809152510532      active  ...   \n",
       "353  23844831609760532  23844831609750532      active  ...   \n",
       "354  23844831625360532  23844831625400532      active  ...   \n",
       "404  23844801493520532  23844801493510532      active  ...   \n",
       "406  23844801493460532  23844801493490532      active  ...   \n",
       "434  23844831094130532  23844831094100532      active  ...   \n",
       "\n",
       "     Unique Outbound CTR (Click-Through Rate) CTR (Link Click-Through Rate)  \\\n",
       "19                                        NaN                      0.237107   \n",
       "20                                        NaN                      0.407056   \n",
       "37                                        NaN                      0.406504   \n",
       "49                                        NaN                      0.494030   \n",
       "104                                       NaN                      0.527357   \n",
       "110                                       NaN                      0.143403   \n",
       "127                                       NaN                      0.790033   \n",
       "184                                       NaN                      0.940249   \n",
       "188                                       NaN                      1.204819   \n",
       "194                                       NaN                      1.115486   \n",
       "198                                       NaN                      0.811908   \n",
       "199                                       NaN                      0.958466   \n",
       "202                                       NaN                      0.250941   \n",
       "222                                       NaN                      2.808989   \n",
       "309                                       NaN                      0.809389   \n",
       "345                                       NaN                      0.589302   \n",
       "353                                       NaN                      1.134752   \n",
       "354                                       NaN                      0.948509   \n",
       "404                                       NaN                      1.694915   \n",
       "406                                       NaN                      1.230228   \n",
       "434                                       NaN                      0.834671   \n",
       "\n",
       "    Cost per 1,000 People Reached (BRL)  \\\n",
       "19                             5.446631   \n",
       "20                             3.887301   \n",
       "37                             5.632257   \n",
       "49                             6.789161   \n",
       "104                            3.782903   \n",
       "110                            3.600954   \n",
       "127                            5.927145   \n",
       "184                           10.786205   \n",
       "188                            9.460326   \n",
       "194                            6.740596   \n",
       "198                            9.713504   \n",
       "199                            7.790523   \n",
       "202                            9.171139   \n",
       "222                           14.124301   \n",
       "309                            3.991575   \n",
       "345                            4.287458   \n",
       "353                            4.966976   \n",
       "354                            4.022894   \n",
       "404                            9.429773   \n",
       "406                            7.849121   \n",
       "434                            4.203443   \n",
       "\n",
       "     CPM (Cost per 1,000 Impressions) (BRL)  Results  \\\n",
       "19                                 5.430488      2.0   \n",
       "20                                 3.879389      2.0   \n",
       "37                                 5.593335     12.0   \n",
       "49                                 6.671769      4.0   \n",
       "104                                3.663207      2.0   \n",
       "110                                3.576856      1.0   \n",
       "127                                5.743441      6.0   \n",
       "184                               10.701145     15.0   \n",
       "188                                9.263053      8.0   \n",
       "194                                6.700790      4.0   \n",
       "198                                9.713504      2.0   \n",
       "199                                7.753188      2.0   \n",
       "202                                9.125111      1.0   \n",
       "222                               14.124301      1.0   \n",
       "309                                3.836499      4.0   \n",
       "345                                4.207773      4.0   \n",
       "353                                4.762661      1.0   \n",
       "354                                3.684928      1.0   \n",
       "404                                9.298151      2.0   \n",
       "406                                7.849121      2.0   \n",
       "434                                4.131924      5.0   \n",
       "\n",
       "                                      Result Indicator  Cost per Results  \\\n",
       "19   actions:offsite_conversion.custom.220987758966192          4.580616   \n",
       "20   actions:offsite_conversion.custom.220987758966192          2.859110   \n",
       "37   actions:offsite_conversion.custom.220987758966192          2.293267   \n",
       "49   actions:offsite_conversion.custom.220987758966192          4.051432   \n",
       "104  actions:offsite_conversion.custom.220987758966192          2.778542   \n",
       "110  actions:offsite_conversion.custom.220987758966192          7.482782   \n",
       "127  actions:offsite_conversion.custom.220987758966192          3.150277   \n",
       "184  actions:offsite_conversion.custom.220987758966192          2.352112   \n",
       "188  actions:offsite_conversion.custom.220987758966192          2.498709   \n",
       "194  actions:offsite_conversion.custom.220987758966192          2.553001   \n",
       "198  actions:offsite_conversion.custom.220987758966192          3.589140   \n",
       "199  actions:offsite_conversion.custom.220987758966192          2.426748   \n",
       "202  actions:offsite_conversion.custom.220987758966192          7.272713   \n",
       "222  actions:offsite_conversion.custom.220987758966192          2.514126   \n",
       "309  actions:offsite_conversion.custom.220987758966192          2.369997   \n",
       "345  actions:offsite_conversion.custom.220987758966192          2.320587   \n",
       "353  actions:offsite_conversion.custom.220987758966192          3.357676   \n",
       "354  actions:offsite_conversion.custom.220987758966192          2.719477   \n",
       "404  actions:offsite_conversion.custom.220987758966192          4.663023   \n",
       "406  actions:offsite_conversion.custom.220987758966192          2.233075   \n",
       "434  actions:offsite_conversion.custom.220987758966192          2.574189   \n",
       "\n",
       "     Quiz Lead  Cost per Action Type Quiz Lead      Ends  \n",
       "19         2.0                        4.580616  Contínuo  \n",
       "20         2.0                        2.859110  Contínuo  \n",
       "37        12.0                        2.293267  Contínuo  \n",
       "49         4.0                        4.051432  Contínuo  \n",
       "104        2.0                        2.778542  Contínuo  \n",
       "110        1.0                        7.482782  Contínuo  \n",
       "127        6.0                        3.150277  Contínuo  \n",
       "184       15.0                        2.352112  Contínuo  \n",
       "188        8.0                        2.498709  Contínuo  \n",
       "194        4.0                        2.553001  Contínuo  \n",
       "198        2.0                        3.589140  Contínuo  \n",
       "199        2.0                        2.426748  Contínuo  \n",
       "202        1.0                        7.272713  Contínuo  \n",
       "222        1.0                        2.514126  Contínuo  \n",
       "309        4.0                        2.369997  Contínuo  \n",
       "345        4.0                        2.320587  Contínuo  \n",
       "353        1.0                        3.357676  Contínuo  \n",
       "354        1.0                        2.719477  Contínuo  \n",
       "404        2.0                        4.663023  Contínuo  \n",
       "406        2.0                        2.233075  Contínuo  \n",
       "434        5.0                        2.574189  Contínuo  \n",
       "\n",
       "[21 rows x 28 columns]"
      ]
     },
     "execution_count": 379,
     "metadata": {},
     "output_type": "execute_result"
    }
   ],
   "source": [
    "image[image['Cost per Results']>=2.20]"
   ]
  },
  {
   "cell_type": "code",
   "execution_count": 380,
   "metadata": {},
   "outputs": [
    {
     "data": {
      "text/html": [
       "<div>\n",
       "<style scoped>\n",
       "    .dataframe tbody tr th:only-of-type {\n",
       "        vertical-align: middle;\n",
       "    }\n",
       "\n",
       "    .dataframe tbody tr th {\n",
       "        vertical-align: top;\n",
       "    }\n",
       "\n",
       "    .dataframe thead th {\n",
       "        text-align: right;\n",
       "    }\n",
       "</style>\n",
       "<table border=\"1\" class=\"dataframe\">\n",
       "  <thead>\n",
       "    <tr style=\"text-align: right;\">\n",
       "      <th></th>\n",
       "      <th>Reporting Starts</th>\n",
       "      <th>Reporting Ends</th>\n",
       "      <th>Ad Name</th>\n",
       "      <th>Text</th>\n",
       "      <th>Campaign Name</th>\n",
       "      <th>Campaign ID</th>\n",
       "      <th>Ad Set Name</th>\n",
       "      <th>Ad Set ID</th>\n",
       "      <th>Ad ID</th>\n",
       "      <th>Ad Delivery</th>\n",
       "      <th>...</th>\n",
       "      <th>Cost per Outbound Click (BRL)</th>\n",
       "      <th>Cost per 1,000 People Reached (BRL)</th>\n",
       "      <th>CPM (Cost per 1,000 Impressions) (BRL)</th>\n",
       "      <th>Results</th>\n",
       "      <th>Result Indicator</th>\n",
       "      <th>Cost per Results</th>\n",
       "      <th>Quiz Lead</th>\n",
       "      <th>Cost per Action Type Quiz Lead</th>\n",
       "      <th>Ends</th>\n",
       "      <th>Last Significant Edit</th>\n",
       "    </tr>\n",
       "  </thead>\n",
       "  <tbody>\n",
       "    <tr>\n",
       "      <th>165</th>\n",
       "      <td>2020-05-24</td>\n",
       "      <td>2020-05-24</td>\n",
       "      <td>001 - [FACEBOOK] QUIZ 15 [DYNAMIC CREATIVE - V...</td>\n",
       "      <td>💳Descubra o Cartão ideal\\n✅ Descontos e Benefí...</td>\n",
       "      <td>quiz15facebook</td>\n",
       "      <td>23844831670160532</td>\n",
       "      <td>002 - [FACEBOOK] QUIZ 15 - [FPR-EXCLUDE PG-30D...</td>\n",
       "      <td>23844831670140532</td>\n",
       "      <td>23844831670170532</td>\n",
       "      <td>active</td>\n",
       "      <td>...</td>\n",
       "      <td>NaN</td>\n",
       "      <td>7.302915</td>\n",
       "      <td>7.274653</td>\n",
       "      <td>8</td>\n",
       "      <td>actions:offsite_conversion.custom.220987758966192</td>\n",
       "      <td>2.349713</td>\n",
       "      <td>8</td>\n",
       "      <td>2.349713</td>\n",
       "      <td>Contínuo</td>\n",
       "      <td>0</td>\n",
       "    </tr>\n",
       "    <tr>\n",
       "      <th>173</th>\n",
       "      <td>2020-05-24</td>\n",
       "      <td>2020-05-24</td>\n",
       "      <td>001 - [FACEBOOK] QUIZ 16 [DYNAMIC CREATIVE - V...</td>\n",
       "      <td>💳Cartão de Crédito já\\n✅ Descubra o cartão ide...</td>\n",
       "      <td>quiz16facebook</td>\n",
       "      <td>23844831707100532</td>\n",
       "      <td>001 - [FACEBOOK] QUIZ 16 - [FPR-EXCLUDE PG-30D...</td>\n",
       "      <td>23844831707120532</td>\n",
       "      <td>23844831707160532</td>\n",
       "      <td>active</td>\n",
       "      <td>...</td>\n",
       "      <td>NaN</td>\n",
       "      <td>9.483979</td>\n",
       "      <td>9.477715</td>\n",
       "      <td>6</td>\n",
       "      <td>actions:offsite_conversion.custom.220987758966192</td>\n",
       "      <td>2.391543</td>\n",
       "      <td>6</td>\n",
       "      <td>2.391543</td>\n",
       "      <td>Contínuo</td>\n",
       "      <td>0</td>\n",
       "    </tr>\n",
       "    <tr>\n",
       "      <th>183</th>\n",
       "      <td>2020-05-24</td>\n",
       "      <td>2020-05-24</td>\n",
       "      <td>001 - [FACEBOOK] QUIZ 9 [DYNAMIC CREATIVE - VI...</td>\n",
       "      <td>💳Descubra o Cartão ideal\\n✅ Descontos e Benefí...</td>\n",
       "      <td>quiz9facebook</td>\n",
       "      <td>23844831591300532</td>\n",
       "      <td>003 - [FACEBOOK] QUIZ 9 - [FPR-EXCLUDE PG-30D]...</td>\n",
       "      <td>23844831591320532</td>\n",
       "      <td>23844831591280532</td>\n",
       "      <td>active</td>\n",
       "      <td>...</td>\n",
       "      <td>NaN</td>\n",
       "      <td>6.604965</td>\n",
       "      <td>6.568151</td>\n",
       "      <td>5</td>\n",
       "      <td>actions:offsite_conversion.custom.220987758966192</td>\n",
       "      <td>2.828246</td>\n",
       "      <td>5</td>\n",
       "      <td>2.828246</td>\n",
       "      <td>Contínuo</td>\n",
       "      <td>0</td>\n",
       "    </tr>\n",
       "    <tr>\n",
       "      <th>186</th>\n",
       "      <td>2020-05-24</td>\n",
       "      <td>2020-05-24</td>\n",
       "      <td>001 - [FACEBOOK] QUIZ 14 [DYNAMIC CREATIVE - V...</td>\n",
       "      <td>💳Descubra o Cartão ideal\\n✅ Descontos e Benefí...</td>\n",
       "      <td>quiz14facebook</td>\n",
       "      <td>23844831670230532</td>\n",
       "      <td>001 - [FACEBOOK] QUIZ 14 - [FPR-EXCLUDE PG-30D...</td>\n",
       "      <td>23844831670260532</td>\n",
       "      <td>23844831670250532</td>\n",
       "      <td>active</td>\n",
       "      <td>...</td>\n",
       "      <td>NaN</td>\n",
       "      <td>7.096450</td>\n",
       "      <td>7.096450</td>\n",
       "      <td>4</td>\n",
       "      <td>actions:offsite_conversion.custom.220987758966192</td>\n",
       "      <td>2.503273</td>\n",
       "      <td>4</td>\n",
       "      <td>2.503273</td>\n",
       "      <td>Contínuo</td>\n",
       "      <td>0</td>\n",
       "    </tr>\n",
       "    <tr>\n",
       "      <th>187</th>\n",
       "      <td>2020-05-24</td>\n",
       "      <td>2020-05-24</td>\n",
       "      <td>001 - [FACEBOOK] QUIZ 16 [DYNAMIC CREATIVE - V...</td>\n",
       "      <td>💳Descubra o Cartão ideal\\n✅ Descontos e Benefí...</td>\n",
       "      <td>quiz16facebook</td>\n",
       "      <td>23844831707100532</td>\n",
       "      <td>001 - [FACEBOOK] QUIZ 16 - [FPR-EXCLUDE PG-30D...</td>\n",
       "      <td>23844831707120532</td>\n",
       "      <td>23844831707160532</td>\n",
       "      <td>active</td>\n",
       "      <td>...</td>\n",
       "      <td>NaN</td>\n",
       "      <td>9.833734</td>\n",
       "      <td>9.807719</td>\n",
       "      <td>2</td>\n",
       "      <td>actions:offsite_conversion.custom.220987758966192</td>\n",
       "      <td>3.707318</td>\n",
       "      <td>2</td>\n",
       "      <td>3.707318</td>\n",
       "      <td>Contínuo</td>\n",
       "      <td>0</td>\n",
       "    </tr>\n",
       "    <tr>\n",
       "      <th>188</th>\n",
       "      <td>2020-05-24</td>\n",
       "      <td>2020-05-24</td>\n",
       "      <td>001 - [FACEBOOK] QUIZ 14 [DYNAMIC CREATIVE - V...</td>\n",
       "      <td>💳Descubra o Cartão ideal\\n✅ Descontos e Benefí...</td>\n",
       "      <td>quiz14facebook</td>\n",
       "      <td>23844831670230532</td>\n",
       "      <td>003 - [FACEBOOK] QUIZ 14 - [FPR-EXCLUDE PG-30D...</td>\n",
       "      <td>23844831670240532</td>\n",
       "      <td>23844831670270532</td>\n",
       "      <td>active</td>\n",
       "      <td>...</td>\n",
       "      <td>NaN</td>\n",
       "      <td>7.929708</td>\n",
       "      <td>7.878311</td>\n",
       "      <td>2</td>\n",
       "      <td>actions:offsite_conversion.custom.220987758966192</td>\n",
       "      <td>4.254288</td>\n",
       "      <td>2</td>\n",
       "      <td>4.254288</td>\n",
       "      <td>Contínuo</td>\n",
       "      <td>0</td>\n",
       "    </tr>\n",
       "  </tbody>\n",
       "</table>\n",
       "<p>6 rows × 33 columns</p>\n",
       "</div>"
      ],
      "text/plain": [
       "    Reporting Starts Reporting Ends  \\\n",
       "165       2020-05-24     2020-05-24   \n",
       "173       2020-05-24     2020-05-24   \n",
       "183       2020-05-24     2020-05-24   \n",
       "186       2020-05-24     2020-05-24   \n",
       "187       2020-05-24     2020-05-24   \n",
       "188       2020-05-24     2020-05-24   \n",
       "\n",
       "                                               Ad Name  \\\n",
       "165  001 - [FACEBOOK] QUIZ 15 [DYNAMIC CREATIVE - V...   \n",
       "173  001 - [FACEBOOK] QUIZ 16 [DYNAMIC CREATIVE - V...   \n",
       "183  001 - [FACEBOOK] QUIZ 9 [DYNAMIC CREATIVE - VI...   \n",
       "186  001 - [FACEBOOK] QUIZ 14 [DYNAMIC CREATIVE - V...   \n",
       "187  001 - [FACEBOOK] QUIZ 16 [DYNAMIC CREATIVE - V...   \n",
       "188  001 - [FACEBOOK] QUIZ 14 [DYNAMIC CREATIVE - V...   \n",
       "\n",
       "                                                  Text   Campaign Name  \\\n",
       "165  💳Descubra o Cartão ideal\\n✅ Descontos e Benefí...  quiz15facebook   \n",
       "173  💳Cartão de Crédito já\\n✅ Descubra o cartão ide...  quiz16facebook   \n",
       "183  💳Descubra o Cartão ideal\\n✅ Descontos e Benefí...   quiz9facebook   \n",
       "186  💳Descubra o Cartão ideal\\n✅ Descontos e Benefí...  quiz14facebook   \n",
       "187  💳Descubra o Cartão ideal\\n✅ Descontos e Benefí...  quiz16facebook   \n",
       "188  💳Descubra o Cartão ideal\\n✅ Descontos e Benefí...  quiz14facebook   \n",
       "\n",
       "           Campaign ID                                        Ad Set Name  \\\n",
       "165  23844831670160532  002 - [FACEBOOK] QUIZ 15 - [FPR-EXCLUDE PG-30D...   \n",
       "173  23844831707100532  001 - [FACEBOOK] QUIZ 16 - [FPR-EXCLUDE PG-30D...   \n",
       "183  23844831591300532  003 - [FACEBOOK] QUIZ 9 - [FPR-EXCLUDE PG-30D]...   \n",
       "186  23844831670230532  001 - [FACEBOOK] QUIZ 14 - [FPR-EXCLUDE PG-30D...   \n",
       "187  23844831707100532  001 - [FACEBOOK] QUIZ 16 - [FPR-EXCLUDE PG-30D...   \n",
       "188  23844831670230532  003 - [FACEBOOK] QUIZ 14 - [FPR-EXCLUDE PG-30D...   \n",
       "\n",
       "             Ad Set ID              Ad ID Ad Delivery  ...  \\\n",
       "165  23844831670140532  23844831670170532      active  ...   \n",
       "173  23844831707120532  23844831707160532      active  ...   \n",
       "183  23844831591320532  23844831591280532      active  ...   \n",
       "186  23844831670260532  23844831670250532      active  ...   \n",
       "187  23844831707120532  23844831707160532      active  ...   \n",
       "188  23844831670240532  23844831670270532      active  ...   \n",
       "\n",
       "     Cost per Outbound Click (BRL) Cost per 1,000 People Reached (BRL)  \\\n",
       "165                            NaN                            7.302915   \n",
       "173                            NaN                            9.483979   \n",
       "183                            NaN                            6.604965   \n",
       "186                            NaN                            7.096450   \n",
       "187                            NaN                            9.833734   \n",
       "188                            NaN                            7.929708   \n",
       "\n",
       "    CPM (Cost per 1,000 Impressions) (BRL)  Results  \\\n",
       "165                               7.274653        8   \n",
       "173                               9.477715        6   \n",
       "183                               6.568151        5   \n",
       "186                               7.096450        4   \n",
       "187                               9.807719        2   \n",
       "188                               7.878311        2   \n",
       "\n",
       "                                      Result Indicator  Cost per Results  \\\n",
       "165  actions:offsite_conversion.custom.220987758966192          2.349713   \n",
       "173  actions:offsite_conversion.custom.220987758966192          2.391543   \n",
       "183  actions:offsite_conversion.custom.220987758966192          2.828246   \n",
       "186  actions:offsite_conversion.custom.220987758966192          2.503273   \n",
       "187  actions:offsite_conversion.custom.220987758966192          3.707318   \n",
       "188  actions:offsite_conversion.custom.220987758966192          4.254288   \n",
       "\n",
       "     Quiz Lead  Cost per Action Type Quiz Lead      Ends  \\\n",
       "165          8                        2.349713  Contínuo   \n",
       "173          6                        2.391543  Contínuo   \n",
       "183          5                        2.828246  Contínuo   \n",
       "186          4                        2.503273  Contínuo   \n",
       "187          2                        3.707318  Contínuo   \n",
       "188          2                        4.254288  Contínuo   \n",
       "\n",
       "     Last Significant Edit  \n",
       "165                      0  \n",
       "173                      0  \n",
       "183                      0  \n",
       "186                      0  \n",
       "187                      0  \n",
       "188                      0  \n",
       "\n",
       "[6 rows x 33 columns]"
      ]
     },
     "execution_count": 380,
     "metadata": {},
     "output_type": "execute_result"
    }
   ],
   "source": [
    "text[text['Cost per Results']>=2.20]"
   ]
  },
  {
   "cell_type": "code",
   "execution_count": 381,
   "metadata": {},
   "outputs": [
    {
     "data": {
      "text/html": [
       "<div>\n",
       "<style scoped>\n",
       "    .dataframe tbody tr th:only-of-type {\n",
       "        vertical-align: middle;\n",
       "    }\n",
       "\n",
       "    .dataframe tbody tr th {\n",
       "        vertical-align: top;\n",
       "    }\n",
       "\n",
       "    .dataframe thead th {\n",
       "        text-align: right;\n",
       "    }\n",
       "</style>\n",
       "<table border=\"1\" class=\"dataframe\">\n",
       "  <thead>\n",
       "    <tr style=\"text-align: right;\">\n",
       "      <th></th>\n",
       "      <th>Reporting Starts</th>\n",
       "      <th>Reporting Ends</th>\n",
       "      <th>Ad Name</th>\n",
       "      <th>Description</th>\n",
       "      <th>Campaign Name</th>\n",
       "      <th>Campaign ID</th>\n",
       "      <th>Ad Set Name</th>\n",
       "      <th>Ad Set ID</th>\n",
       "      <th>Ad ID</th>\n",
       "      <th>Ad Delivery</th>\n",
       "      <th>...</th>\n",
       "      <th>Cost per Outbound Click (BRL)</th>\n",
       "      <th>Cost per 1,000 People Reached (BRL)</th>\n",
       "      <th>CPM (Cost per 1,000 Impressions) (BRL)</th>\n",
       "      <th>Results</th>\n",
       "      <th>Result Indicator</th>\n",
       "      <th>Cost per Results</th>\n",
       "      <th>Quiz Lead</th>\n",
       "      <th>Cost per Action Type Quiz Lead</th>\n",
       "      <th>Ends</th>\n",
       "      <th>Last Significant Edit</th>\n",
       "    </tr>\n",
       "  </thead>\n",
       "  <tbody>\n",
       "    <tr>\n",
       "      <th>0</th>\n",
       "      <td>2020-05-24</td>\n",
       "      <td>2020-05-24</td>\n",
       "      <td>001 - [FACEBOOK] QUIZ 13 [DYNAMIC CREATIVE - V...</td>\n",
       "      <td>Vai deixar passar essa oportunidade?</td>\n",
       "      <td>quiz13facebook</td>\n",
       "      <td>23844831647610532</td>\n",
       "      <td>001 - [FACEBOOK] QUIZ 13 - [FPR-EXCLUDE PG-30D...</td>\n",
       "      <td>23844831647580532</td>\n",
       "      <td>23844831647560532</td>\n",
       "      <td>active</td>\n",
       "      <td>...</td>\n",
       "      <td>NaN</td>\n",
       "      <td>5.588942</td>\n",
       "      <td>5.581510</td>\n",
       "      <td>1</td>\n",
       "      <td>actions:offsite_conversion.custom.220987758966192</td>\n",
       "      <td>4.197295</td>\n",
       "      <td>1</td>\n",
       "      <td>4.197295</td>\n",
       "      <td>Contínuo</td>\n",
       "      <td>0</td>\n",
       "    </tr>\n",
       "    <tr>\n",
       "      <th>1</th>\n",
       "      <td>2020-05-24</td>\n",
       "      <td>2020-05-24</td>\n",
       "      <td>001 - [FACEBOOK] QUIZ 16 [DYNAMIC CREATIVE - V...</td>\n",
       "      <td>Saiba Mais no botão ao lado</td>\n",
       "      <td>quiz16facebook</td>\n",
       "      <td>23844831707100532</td>\n",
       "      <td>003 - [FACEBOOK] QUIZ 16 - [FPR-EXCLUDE PG-30D...</td>\n",
       "      <td>23844831707130532</td>\n",
       "      <td>23844831707150532</td>\n",
       "      <td>active</td>\n",
       "      <td>...</td>\n",
       "      <td>NaN</td>\n",
       "      <td>7.838031</td>\n",
       "      <td>7.791603</td>\n",
       "      <td>4</td>\n",
       "      <td>actions:offsite_conversion.custom.220987758966192</td>\n",
       "      <td>3.617251</td>\n",
       "      <td>4</td>\n",
       "      <td>3.617251</td>\n",
       "      <td>Contínuo</td>\n",
       "      <td>0</td>\n",
       "    </tr>\n",
       "    <tr>\n",
       "      <th>2</th>\n",
       "      <td>2020-05-24</td>\n",
       "      <td>2020-05-24</td>\n",
       "      <td>001 - [FACEBOOK] QUIZ 16 [DYNAMIC CREATIVE - V...</td>\n",
       "      <td>Saiba Mais no botão ao lado</td>\n",
       "      <td>quiz16facebook</td>\n",
       "      <td>23844831707100532</td>\n",
       "      <td>002 - [FACEBOOK] QUIZ 16 - [FPR-EXCLUDE PG-30D...</td>\n",
       "      <td>23844831707140532</td>\n",
       "      <td>23844831707110532</td>\n",
       "      <td>active</td>\n",
       "      <td>...</td>\n",
       "      <td>NaN</td>\n",
       "      <td>9.614628</td>\n",
       "      <td>9.586322</td>\n",
       "      <td>3</td>\n",
       "      <td>actions:offsite_conversion.custom.220987758966192</td>\n",
       "      <td>3.256154</td>\n",
       "      <td>3</td>\n",
       "      <td>3.256154</td>\n",
       "      <td>Contínuo</td>\n",
       "      <td>0</td>\n",
       "    </tr>\n",
       "    <tr>\n",
       "      <th>3</th>\n",
       "      <td>2020-05-24</td>\n",
       "      <td>2020-05-24</td>\n",
       "      <td>001 - [FACEBOOK] QUIZ 14 [DYNAMIC CREATIVE - V...</td>\n",
       "      <td>Não perca essa oportunidade.</td>\n",
       "      <td>quiz14facebook</td>\n",
       "      <td>23844831670230532</td>\n",
       "      <td>001 - [FACEBOOK] QUIZ 14 - [FPR-EXCLUDE PG-30D...</td>\n",
       "      <td>23844831670260532</td>\n",
       "      <td>23844831670250532</td>\n",
       "      <td>active</td>\n",
       "      <td>...</td>\n",
       "      <td>NaN</td>\n",
       "      <td>6.152583</td>\n",
       "      <td>5.985066</td>\n",
       "      <td>7</td>\n",
       "      <td>actions:offsite_conversion.custom.220987758966192</td>\n",
       "      <td>3.234501</td>\n",
       "      <td>7</td>\n",
       "      <td>3.234501</td>\n",
       "      <td>Contínuo</td>\n",
       "      <td>0</td>\n",
       "    </tr>\n",
       "    <tr>\n",
       "      <th>4</th>\n",
       "      <td>2020-05-24</td>\n",
       "      <td>2020-05-24</td>\n",
       "      <td>001 - [FACEBOOK] QUIZ 16 [DYNAMIC CREATIVE - V...</td>\n",
       "      <td>Não perca essa oportunidade.</td>\n",
       "      <td>quiz16facebook</td>\n",
       "      <td>23844831707100532</td>\n",
       "      <td>001 - [FACEBOOK] QUIZ 16 - [FPR-EXCLUDE PG-30D...</td>\n",
       "      <td>23844831707120532</td>\n",
       "      <td>23844831707160532</td>\n",
       "      <td>active</td>\n",
       "      <td>...</td>\n",
       "      <td>NaN</td>\n",
       "      <td>10.915240</td>\n",
       "      <td>10.883277</td>\n",
       "      <td>5</td>\n",
       "      <td>actions:offsite_conversion.custom.220987758966192</td>\n",
       "      <td>2.973311</td>\n",
       "      <td>5</td>\n",
       "      <td>2.973311</td>\n",
       "      <td>Contínuo</td>\n",
       "      <td>0</td>\n",
       "    </tr>\n",
       "    <tr>\n",
       "      <th>5</th>\n",
       "      <td>2020-05-24</td>\n",
       "      <td>2020-05-24</td>\n",
       "      <td>001 - [FACEBOOK] QUIZ 15 [DYNAMIC CREATIVE - V...</td>\n",
       "      <td>Mais de 400 mil pessoas já responderam o Quiz</td>\n",
       "      <td>quiz15facebook</td>\n",
       "      <td>23844831670160532</td>\n",
       "      <td>002 - [FACEBOOK] QUIZ 15 - [FPR-EXCLUDE PG-30D...</td>\n",
       "      <td>23844831670140532</td>\n",
       "      <td>23844831670170532</td>\n",
       "      <td>active</td>\n",
       "      <td>...</td>\n",
       "      <td>NaN</td>\n",
       "      <td>6.410895</td>\n",
       "      <td>6.370539</td>\n",
       "      <td>5</td>\n",
       "      <td>actions:offsite_conversion.custom.220987758966192</td>\n",
       "      <td>2.833616</td>\n",
       "      <td>5</td>\n",
       "      <td>2.833616</td>\n",
       "      <td>Contínuo</td>\n",
       "      <td>0</td>\n",
       "    </tr>\n",
       "    <tr>\n",
       "      <th>6</th>\n",
       "      <td>2020-05-24</td>\n",
       "      <td>2020-05-24</td>\n",
       "      <td>001 - [FACEBOOK] QUIZ 10 [DYNAMIC CREATIVE - V...</td>\n",
       "      <td>Não perca essa oportunidade.</td>\n",
       "      <td>quiz10facebook</td>\n",
       "      <td>23844831599080532</td>\n",
       "      <td>003 - [FACEBOOK] QUIZ 10 - [FPR-EXCLUDE PG-30D...</td>\n",
       "      <td>23844831599100532</td>\n",
       "      <td>23844831599090532</td>\n",
       "      <td>active</td>\n",
       "      <td>...</td>\n",
       "      <td>NaN</td>\n",
       "      <td>6.628737</td>\n",
       "      <td>6.611265</td>\n",
       "      <td>5</td>\n",
       "      <td>actions:offsite_conversion.custom.220987758966192</td>\n",
       "      <td>2.508314</td>\n",
       "      <td>5</td>\n",
       "      <td>2.508314</td>\n",
       "      <td>Contínuo</td>\n",
       "      <td>0</td>\n",
       "    </tr>\n",
       "    <tr>\n",
       "      <th>7</th>\n",
       "      <td>2020-05-24</td>\n",
       "      <td>2020-05-24</td>\n",
       "      <td>001 - [FACEBOOK] QUIZ 8 [DYNAMIC CREATIVE - VI...</td>\n",
       "      <td>Não perca essa oportunidade.</td>\n",
       "      <td>quiz8facebook</td>\n",
       "      <td>23844831578580532</td>\n",
       "      <td>003 - [FACEBOOK] QUIZ 8 - [FPR-EXCLUDE PG-30D]...</td>\n",
       "      <td>23844831578610532</td>\n",
       "      <td>23844831578560532</td>\n",
       "      <td>active</td>\n",
       "      <td>...</td>\n",
       "      <td>NaN</td>\n",
       "      <td>7.089425</td>\n",
       "      <td>7.002837</td>\n",
       "      <td>2</td>\n",
       "      <td>actions:offsite_conversion.custom.220987758966192</td>\n",
       "      <td>2.293429</td>\n",
       "      <td>2</td>\n",
       "      <td>2.293429</td>\n",
       "      <td>Contínuo</td>\n",
       "      <td>0</td>\n",
       "    </tr>\n",
       "  </tbody>\n",
       "</table>\n",
       "<p>8 rows × 33 columns</p>\n",
       "</div>"
      ],
      "text/plain": [
       "  Reporting Starts Reporting Ends  \\\n",
       "0       2020-05-24     2020-05-24   \n",
       "1       2020-05-24     2020-05-24   \n",
       "2       2020-05-24     2020-05-24   \n",
       "3       2020-05-24     2020-05-24   \n",
       "4       2020-05-24     2020-05-24   \n",
       "5       2020-05-24     2020-05-24   \n",
       "6       2020-05-24     2020-05-24   \n",
       "7       2020-05-24     2020-05-24   \n",
       "\n",
       "                                             Ad Name  \\\n",
       "0  001 - [FACEBOOK] QUIZ 13 [DYNAMIC CREATIVE - V...   \n",
       "1  001 - [FACEBOOK] QUIZ 16 [DYNAMIC CREATIVE - V...   \n",
       "2  001 - [FACEBOOK] QUIZ 16 [DYNAMIC CREATIVE - V...   \n",
       "3  001 - [FACEBOOK] QUIZ 14 [DYNAMIC CREATIVE - V...   \n",
       "4  001 - [FACEBOOK] QUIZ 16 [DYNAMIC CREATIVE - V...   \n",
       "5  001 - [FACEBOOK] QUIZ 15 [DYNAMIC CREATIVE - V...   \n",
       "6  001 - [FACEBOOK] QUIZ 10 [DYNAMIC CREATIVE - V...   \n",
       "7  001 - [FACEBOOK] QUIZ 8 [DYNAMIC CREATIVE - VI...   \n",
       "\n",
       "                                     Description   Campaign Name  \\\n",
       "0           Vai deixar passar essa oportunidade?  quiz13facebook   \n",
       "1                    Saiba Mais no botão ao lado  quiz16facebook   \n",
       "2                    Saiba Mais no botão ao lado  quiz16facebook   \n",
       "3                   Não perca essa oportunidade.  quiz14facebook   \n",
       "4                   Não perca essa oportunidade.  quiz16facebook   \n",
       "5  Mais de 400 mil pessoas já responderam o Quiz  quiz15facebook   \n",
       "6                   Não perca essa oportunidade.  quiz10facebook   \n",
       "7                   Não perca essa oportunidade.   quiz8facebook   \n",
       "\n",
       "         Campaign ID                                        Ad Set Name  \\\n",
       "0  23844831647610532  001 - [FACEBOOK] QUIZ 13 - [FPR-EXCLUDE PG-30D...   \n",
       "1  23844831707100532  003 - [FACEBOOK] QUIZ 16 - [FPR-EXCLUDE PG-30D...   \n",
       "2  23844831707100532  002 - [FACEBOOK] QUIZ 16 - [FPR-EXCLUDE PG-30D...   \n",
       "3  23844831670230532  001 - [FACEBOOK] QUIZ 14 - [FPR-EXCLUDE PG-30D...   \n",
       "4  23844831707100532  001 - [FACEBOOK] QUIZ 16 - [FPR-EXCLUDE PG-30D...   \n",
       "5  23844831670160532  002 - [FACEBOOK] QUIZ 15 - [FPR-EXCLUDE PG-30D...   \n",
       "6  23844831599080532  003 - [FACEBOOK] QUIZ 10 - [FPR-EXCLUDE PG-30D...   \n",
       "7  23844831578580532  003 - [FACEBOOK] QUIZ 8 - [FPR-EXCLUDE PG-30D]...   \n",
       "\n",
       "           Ad Set ID              Ad ID Ad Delivery  ...  \\\n",
       "0  23844831647580532  23844831647560532      active  ...   \n",
       "1  23844831707130532  23844831707150532      active  ...   \n",
       "2  23844831707140532  23844831707110532      active  ...   \n",
       "3  23844831670260532  23844831670250532      active  ...   \n",
       "4  23844831707120532  23844831707160532      active  ...   \n",
       "5  23844831670140532  23844831670170532      active  ...   \n",
       "6  23844831599100532  23844831599090532      active  ...   \n",
       "7  23844831578610532  23844831578560532      active  ...   \n",
       "\n",
       "   Cost per Outbound Click (BRL) Cost per 1,000 People Reached (BRL)  \\\n",
       "0                            NaN                            5.588942   \n",
       "1                            NaN                            7.838031   \n",
       "2                            NaN                            9.614628   \n",
       "3                            NaN                            6.152583   \n",
       "4                            NaN                           10.915240   \n",
       "5                            NaN                            6.410895   \n",
       "6                            NaN                            6.628737   \n",
       "7                            NaN                            7.089425   \n",
       "\n",
       "  CPM (Cost per 1,000 Impressions) (BRL)  Results  \\\n",
       "0                               5.581510        1   \n",
       "1                               7.791603        4   \n",
       "2                               9.586322        3   \n",
       "3                               5.985066        7   \n",
       "4                              10.883277        5   \n",
       "5                               6.370539        5   \n",
       "6                               6.611265        5   \n",
       "7                               7.002837        2   \n",
       "\n",
       "                                    Result Indicator  Cost per Results  \\\n",
       "0  actions:offsite_conversion.custom.220987758966192          4.197295   \n",
       "1  actions:offsite_conversion.custom.220987758966192          3.617251   \n",
       "2  actions:offsite_conversion.custom.220987758966192          3.256154   \n",
       "3  actions:offsite_conversion.custom.220987758966192          3.234501   \n",
       "4  actions:offsite_conversion.custom.220987758966192          2.973311   \n",
       "5  actions:offsite_conversion.custom.220987758966192          2.833616   \n",
       "6  actions:offsite_conversion.custom.220987758966192          2.508314   \n",
       "7  actions:offsite_conversion.custom.220987758966192          2.293429   \n",
       "\n",
       "   Quiz Lead  Cost per Action Type Quiz Lead      Ends  Last Significant Edit  \n",
       "0          1                        4.197295  Contínuo                      0  \n",
       "1          4                        3.617251  Contínuo                      0  \n",
       "2          3                        3.256154  Contínuo                      0  \n",
       "3          7                        3.234501  Contínuo                      0  \n",
       "4          5                        2.973311  Contínuo                      0  \n",
       "5          5                        2.833616  Contínuo                      0  \n",
       "6          5                        2.508314  Contínuo                      0  \n",
       "7          2                        2.293429  Contínuo                      0  \n",
       "\n",
       "[8 rows x 33 columns]"
      ]
     },
     "execution_count": 381,
     "metadata": {},
     "output_type": "execute_result"
    }
   ],
   "source": [
    "desc[desc['Cost per Results']>=2.20]"
   ]
  },
  {
   "cell_type": "code",
   "execution_count": 382,
   "metadata": {},
   "outputs": [
    {
     "data": {
      "text/html": [
       "<div>\n",
       "<style scoped>\n",
       "    .dataframe tbody tr th:only-of-type {\n",
       "        vertical-align: middle;\n",
       "    }\n",
       "\n",
       "    .dataframe tbody tr th {\n",
       "        vertical-align: top;\n",
       "    }\n",
       "\n",
       "    .dataframe thead th {\n",
       "        text-align: right;\n",
       "    }\n",
       "</style>\n",
       "<table border=\"1\" class=\"dataframe\">\n",
       "  <thead>\n",
       "    <tr style=\"text-align: right;\">\n",
       "      <th></th>\n",
       "      <th>Reporting Starts</th>\n",
       "      <th>Reporting Ends</th>\n",
       "      <th>Ad Name</th>\n",
       "      <th>Headline (Ad Settings)</th>\n",
       "      <th>Campaign Name</th>\n",
       "      <th>Campaign ID</th>\n",
       "      <th>Ad Set Name</th>\n",
       "      <th>Ad Set ID</th>\n",
       "      <th>Ad ID</th>\n",
       "      <th>Ad Delivery</th>\n",
       "      <th>...</th>\n",
       "      <th>Cost per Outbound Click (BRL)</th>\n",
       "      <th>Cost per 1,000 People Reached (BRL)</th>\n",
       "      <th>CPM (Cost per 1,000 Impressions) (BRL)</th>\n",
       "      <th>Results</th>\n",
       "      <th>Result Indicator</th>\n",
       "      <th>Cost per Results</th>\n",
       "      <th>Quiz Lead</th>\n",
       "      <th>Cost per Action Type Quiz Lead</th>\n",
       "      <th>Ends</th>\n",
       "      <th>Last Significant Edit</th>\n",
       "    </tr>\n",
       "  </thead>\n",
       "  <tbody>\n",
       "    <tr>\n",
       "      <th>0</th>\n",
       "      <td>2020-05-24</td>\n",
       "      <td>2020-05-24</td>\n",
       "      <td>001 - [FACEBOOK] QUIZ 5 [DYNAMIC CREATIVE - VI...</td>\n",
       "      <td>Cartão de Crédito</td>\n",
       "      <td>quiz5facebook</td>\n",
       "      <td>23844831094090532</td>\n",
       "      <td>002 - [FACEBOOK] QUIZ 5 - [FPR-EXCLUDE PG-30D]...</td>\n",
       "      <td>23844831094130532</td>\n",
       "      <td>23844831094100532</td>\n",
       "      <td>active</td>\n",
       "      <td>...</td>\n",
       "      <td>NaN</td>\n",
       "      <td>12.732489</td>\n",
       "      <td>12.616529</td>\n",
       "      <td>1</td>\n",
       "      <td>actions:offsite_conversion.custom.220987758966192</td>\n",
       "      <td>6.926474</td>\n",
       "      <td>1</td>\n",
       "      <td>6.926474</td>\n",
       "      <td>Contínuo</td>\n",
       "      <td>0</td>\n",
       "    </tr>\n",
       "    <tr>\n",
       "      <th>1</th>\n",
       "      <td>2020-05-24</td>\n",
       "      <td>2020-05-24</td>\n",
       "      <td>001 - [FACEBOOK] QUIZ 14 [DYNAMIC CREATIVE - V...</td>\n",
       "      <td>Quero cartão</td>\n",
       "      <td>quiz14facebook</td>\n",
       "      <td>23844831670230532</td>\n",
       "      <td>003 - [FACEBOOK] QUIZ 14 - [FPR-EXCLUDE PG-30D...</td>\n",
       "      <td>23844831670240532</td>\n",
       "      <td>23844831670270532</td>\n",
       "      <td>active</td>\n",
       "      <td>...</td>\n",
       "      <td>NaN</td>\n",
       "      <td>6.197651</td>\n",
       "      <td>6.129829</td>\n",
       "      <td>3</td>\n",
       "      <td>actions:offsite_conversion.custom.220987758966192</td>\n",
       "      <td>3.921047</td>\n",
       "      <td>3</td>\n",
       "      <td>3.921047</td>\n",
       "      <td>Contínuo</td>\n",
       "      <td>0</td>\n",
       "    </tr>\n",
       "    <tr>\n",
       "      <th>2</th>\n",
       "      <td>2020-05-24</td>\n",
       "      <td>2020-05-24</td>\n",
       "      <td>001 - [FACEBOOK] QUIZ 10 [DYNAMIC CREATIVE - V...</td>\n",
       "      <td>Quero cartão</td>\n",
       "      <td>quiz10facebook</td>\n",
       "      <td>23844831599080532</td>\n",
       "      <td>003 - [FACEBOOK] QUIZ 10 - [FPR-EXCLUDE PG-30D...</td>\n",
       "      <td>23844831599100532</td>\n",
       "      <td>23844831599090532</td>\n",
       "      <td>active</td>\n",
       "      <td>...</td>\n",
       "      <td>NaN</td>\n",
       "      <td>13.694109</td>\n",
       "      <td>13.583449</td>\n",
       "      <td>2</td>\n",
       "      <td>actions:offsite_conversion.custom.220987758966192</td>\n",
       "      <td>3.361904</td>\n",
       "      <td>2</td>\n",
       "      <td>3.361904</td>\n",
       "      <td>Contínuo</td>\n",
       "      <td>0</td>\n",
       "    </tr>\n",
       "    <tr>\n",
       "      <th>3</th>\n",
       "      <td>2020-05-24</td>\n",
       "      <td>2020-05-24</td>\n",
       "      <td>001 - [FACEBOOK] QUIZ 13 [DYNAMIC CREATIVE - V...</td>\n",
       "      <td>Como solicitar</td>\n",
       "      <td>quiz13facebook</td>\n",
       "      <td>23844831647610532</td>\n",
       "      <td>003 - [FACEBOOK] QUIZ 13 - [FPR-EXCLUDE PG-30D...</td>\n",
       "      <td>23844831647600532</td>\n",
       "      <td>23844831647590532</td>\n",
       "      <td>active</td>\n",
       "      <td>...</td>\n",
       "      <td>NaN</td>\n",
       "      <td>6.956188</td>\n",
       "      <td>6.924819</td>\n",
       "      <td>2</td>\n",
       "      <td>actions:offsite_conversion.custom.220987758966192</td>\n",
       "      <td>3.071157</td>\n",
       "      <td>2</td>\n",
       "      <td>3.071157</td>\n",
       "      <td>Contínuo</td>\n",
       "      <td>0</td>\n",
       "    </tr>\n",
       "    <tr>\n",
       "      <th>4</th>\n",
       "      <td>2020-05-24</td>\n",
       "      <td>2020-05-24</td>\n",
       "      <td>001 - [FACEBOOK] QUIZ 14 [DYNAMIC CREATIVE - V...</td>\n",
       "      <td>Quero cartão</td>\n",
       "      <td>quiz14facebook</td>\n",
       "      <td>23844831670230532</td>\n",
       "      <td>001 - [FACEBOOK] QUIZ 14 - [FPR-EXCLUDE PG-30D...</td>\n",
       "      <td>23844831670260532</td>\n",
       "      <td>23844831670250532</td>\n",
       "      <td>active</td>\n",
       "      <td>...</td>\n",
       "      <td>NaN</td>\n",
       "      <td>6.217019</td>\n",
       "      <td>6.041917</td>\n",
       "      <td>7</td>\n",
       "      <td>actions:offsite_conversion.custom.220987758966192</td>\n",
       "      <td>3.033905</td>\n",
       "      <td>7</td>\n",
       "      <td>3.033905</td>\n",
       "      <td>Contínuo</td>\n",
       "      <td>0</td>\n",
       "    </tr>\n",
       "    <tr>\n",
       "      <th>5</th>\n",
       "      <td>2020-05-24</td>\n",
       "      <td>2020-05-24</td>\n",
       "      <td>001 - [FACEBOOK] QUIZ 7 [DYNAMIC CREATIVE - VI...</td>\n",
       "      <td>Faça o Quiz</td>\n",
       "      <td>quiz7facebook</td>\n",
       "      <td>23844831425350532</td>\n",
       "      <td>003 - [FACEBOOK] QUIZ 7 - [FPR-EXCLUDE PG-30D]...</td>\n",
       "      <td>23844831425340532</td>\n",
       "      <td>23844831425390532</td>\n",
       "      <td>active</td>\n",
       "      <td>...</td>\n",
       "      <td>NaN</td>\n",
       "      <td>7.721874</td>\n",
       "      <td>7.714867</td>\n",
       "      <td>3</td>\n",
       "      <td>actions:offsite_conversion.custom.220987758966192</td>\n",
       "      <td>2.833928</td>\n",
       "      <td>3</td>\n",
       "      <td>2.833928</td>\n",
       "      <td>Contínuo</td>\n",
       "      <td>0</td>\n",
       "    </tr>\n",
       "    <tr>\n",
       "      <th>6</th>\n",
       "      <td>2020-05-24</td>\n",
       "      <td>2020-05-24</td>\n",
       "      <td>001 - [FACEBOOK] QUIZ 16 [DYNAMIC CREATIVE - V...</td>\n",
       "      <td>Faça o Quiz</td>\n",
       "      <td>quiz16facebook</td>\n",
       "      <td>23844831707100532</td>\n",
       "      <td>001 - [FACEBOOK] QUIZ 16 - [FPR-EXCLUDE PG-30D...</td>\n",
       "      <td>23844831707120532</td>\n",
       "      <td>23844831707160532</td>\n",
       "      <td>active</td>\n",
       "      <td>...</td>\n",
       "      <td>NaN</td>\n",
       "      <td>7.545155</td>\n",
       "      <td>7.523811</td>\n",
       "      <td>2</td>\n",
       "      <td>actions:offsite_conversion.custom.220987758966192</td>\n",
       "      <td>2.659667</td>\n",
       "      <td>2</td>\n",
       "      <td>2.659667</td>\n",
       "      <td>Contínuo</td>\n",
       "      <td>0</td>\n",
       "    </tr>\n",
       "    <tr>\n",
       "      <th>7</th>\n",
       "      <td>2020-05-24</td>\n",
       "      <td>2020-05-24</td>\n",
       "      <td>001 - [FACEBOOK] QUIZ 8 [DYNAMIC CREATIVE - VI...</td>\n",
       "      <td>Quero cartão</td>\n",
       "      <td>quiz8facebook</td>\n",
       "      <td>23844831578580532</td>\n",
       "      <td>003 - [FACEBOOK] QUIZ 8 - [FPR-EXCLUDE PG-30D]...</td>\n",
       "      <td>23844831578610532</td>\n",
       "      <td>23844831578560532</td>\n",
       "      <td>active</td>\n",
       "      <td>...</td>\n",
       "      <td>NaN</td>\n",
       "      <td>6.719173</td>\n",
       "      <td>6.660405</td>\n",
       "      <td>2</td>\n",
       "      <td>actions:offsite_conversion.custom.220987758966192</td>\n",
       "      <td>2.284519</td>\n",
       "      <td>2</td>\n",
       "      <td>2.284519</td>\n",
       "      <td>Contínuo</td>\n",
       "      <td>0</td>\n",
       "    </tr>\n",
       "    <tr>\n",
       "      <th>8</th>\n",
       "      <td>2020-05-24</td>\n",
       "      <td>2020-05-24</td>\n",
       "      <td>001 - [FACEBOOK] QUIZ 16 [DYNAMIC CREATIVE - V...</td>\n",
       "      <td>Faça o Quiz</td>\n",
       "      <td>quiz16facebook</td>\n",
       "      <td>23844831707100532</td>\n",
       "      <td>002 - [FACEBOOK] QUIZ 16 - [FPR-EXCLUDE PG-30D...</td>\n",
       "      <td>23844831707140532</td>\n",
       "      <td>23844831707110532</td>\n",
       "      <td>active</td>\n",
       "      <td>...</td>\n",
       "      <td>NaN</td>\n",
       "      <td>10.848858</td>\n",
       "      <td>10.767614</td>\n",
       "      <td>19</td>\n",
       "      <td>actions:offsite_conversion.custom.220987758966192</td>\n",
       "      <td>2.270266</td>\n",
       "      <td>19</td>\n",
       "      <td>2.270266</td>\n",
       "      <td>Contínuo</td>\n",
       "      <td>0</td>\n",
       "    </tr>\n",
       "    <tr>\n",
       "      <th>9</th>\n",
       "      <td>2020-05-24</td>\n",
       "      <td>2020-05-24</td>\n",
       "      <td>001 - [FACEBOOK] QUIZ 15 [DYNAMIC CREATIVE - V...</td>\n",
       "      <td>Descubra Agora</td>\n",
       "      <td>quiz15facebook</td>\n",
       "      <td>23844831670160532</td>\n",
       "      <td>002 - [FACEBOOK] QUIZ 15 - [FPR-EXCLUDE PG-30D...</td>\n",
       "      <td>23844831670140532</td>\n",
       "      <td>23844831670170532</td>\n",
       "      <td>active</td>\n",
       "      <td>...</td>\n",
       "      <td>NaN</td>\n",
       "      <td>6.544891</td>\n",
       "      <td>6.516269</td>\n",
       "      <td>6</td>\n",
       "      <td>actions:offsite_conversion.custom.220987758966192</td>\n",
       "      <td>2.235080</td>\n",
       "      <td>6</td>\n",
       "      <td>2.235080</td>\n",
       "      <td>Contínuo</td>\n",
       "      <td>0</td>\n",
       "    </tr>\n",
       "  </tbody>\n",
       "</table>\n",
       "<p>10 rows × 33 columns</p>\n",
       "</div>"
      ],
      "text/plain": [
       "  Reporting Starts Reporting Ends  \\\n",
       "0       2020-05-24     2020-05-24   \n",
       "1       2020-05-24     2020-05-24   \n",
       "2       2020-05-24     2020-05-24   \n",
       "3       2020-05-24     2020-05-24   \n",
       "4       2020-05-24     2020-05-24   \n",
       "5       2020-05-24     2020-05-24   \n",
       "6       2020-05-24     2020-05-24   \n",
       "7       2020-05-24     2020-05-24   \n",
       "8       2020-05-24     2020-05-24   \n",
       "9       2020-05-24     2020-05-24   \n",
       "\n",
       "                                             Ad Name Headline (Ad Settings)  \\\n",
       "0  001 - [FACEBOOK] QUIZ 5 [DYNAMIC CREATIVE - VI...      Cartão de Crédito   \n",
       "1  001 - [FACEBOOK] QUIZ 14 [DYNAMIC CREATIVE - V...           Quero cartão   \n",
       "2  001 - [FACEBOOK] QUIZ 10 [DYNAMIC CREATIVE - V...           Quero cartão   \n",
       "3  001 - [FACEBOOK] QUIZ 13 [DYNAMIC CREATIVE - V...         Como solicitar   \n",
       "4  001 - [FACEBOOK] QUIZ 14 [DYNAMIC CREATIVE - V...           Quero cartão   \n",
       "5  001 - [FACEBOOK] QUIZ 7 [DYNAMIC CREATIVE - VI...            Faça o Quiz   \n",
       "6  001 - [FACEBOOK] QUIZ 16 [DYNAMIC CREATIVE - V...            Faça o Quiz   \n",
       "7  001 - [FACEBOOK] QUIZ 8 [DYNAMIC CREATIVE - VI...           Quero cartão   \n",
       "8  001 - [FACEBOOK] QUIZ 16 [DYNAMIC CREATIVE - V...            Faça o Quiz   \n",
       "9  001 - [FACEBOOK] QUIZ 15 [DYNAMIC CREATIVE - V...         Descubra Agora   \n",
       "\n",
       "    Campaign Name        Campaign ID  \\\n",
       "0   quiz5facebook  23844831094090532   \n",
       "1  quiz14facebook  23844831670230532   \n",
       "2  quiz10facebook  23844831599080532   \n",
       "3  quiz13facebook  23844831647610532   \n",
       "4  quiz14facebook  23844831670230532   \n",
       "5   quiz7facebook  23844831425350532   \n",
       "6  quiz16facebook  23844831707100532   \n",
       "7   quiz8facebook  23844831578580532   \n",
       "8  quiz16facebook  23844831707100532   \n",
       "9  quiz15facebook  23844831670160532   \n",
       "\n",
       "                                         Ad Set Name          Ad Set ID  \\\n",
       "0  002 - [FACEBOOK] QUIZ 5 - [FPR-EXCLUDE PG-30D]...  23844831094130532   \n",
       "1  003 - [FACEBOOK] QUIZ 14 - [FPR-EXCLUDE PG-30D...  23844831670240532   \n",
       "2  003 - [FACEBOOK] QUIZ 10 - [FPR-EXCLUDE PG-30D...  23844831599100532   \n",
       "3  003 - [FACEBOOK] QUIZ 13 - [FPR-EXCLUDE PG-30D...  23844831647600532   \n",
       "4  001 - [FACEBOOK] QUIZ 14 - [FPR-EXCLUDE PG-30D...  23844831670260532   \n",
       "5  003 - [FACEBOOK] QUIZ 7 - [FPR-EXCLUDE PG-30D]...  23844831425340532   \n",
       "6  001 - [FACEBOOK] QUIZ 16 - [FPR-EXCLUDE PG-30D...  23844831707120532   \n",
       "7  003 - [FACEBOOK] QUIZ 8 - [FPR-EXCLUDE PG-30D]...  23844831578610532   \n",
       "8  002 - [FACEBOOK] QUIZ 16 - [FPR-EXCLUDE PG-30D...  23844831707140532   \n",
       "9  002 - [FACEBOOK] QUIZ 15 - [FPR-EXCLUDE PG-30D...  23844831670140532   \n",
       "\n",
       "               Ad ID Ad Delivery  ...  Cost per Outbound Click (BRL)  \\\n",
       "0  23844831094100532      active  ...                            NaN   \n",
       "1  23844831670270532      active  ...                            NaN   \n",
       "2  23844831599090532      active  ...                            NaN   \n",
       "3  23844831647590532      active  ...                            NaN   \n",
       "4  23844831670250532      active  ...                            NaN   \n",
       "5  23844831425390532      active  ...                            NaN   \n",
       "6  23844831707160532      active  ...                            NaN   \n",
       "7  23844831578560532      active  ...                            NaN   \n",
       "8  23844831707110532      active  ...                            NaN   \n",
       "9  23844831670170532      active  ...                            NaN   \n",
       "\n",
       "  Cost per 1,000 People Reached (BRL) CPM (Cost per 1,000 Impressions) (BRL)  \\\n",
       "0                           12.732489                              12.616529   \n",
       "1                            6.197651                               6.129829   \n",
       "2                           13.694109                              13.583449   \n",
       "3                            6.956188                               6.924819   \n",
       "4                            6.217019                               6.041917   \n",
       "5                            7.721874                               7.714867   \n",
       "6                            7.545155                               7.523811   \n",
       "7                            6.719173                               6.660405   \n",
       "8                           10.848858                              10.767614   \n",
       "9                            6.544891                               6.516269   \n",
       "\n",
       "   Results                                   Result Indicator  \\\n",
       "0        1  actions:offsite_conversion.custom.220987758966192   \n",
       "1        3  actions:offsite_conversion.custom.220987758966192   \n",
       "2        2  actions:offsite_conversion.custom.220987758966192   \n",
       "3        2  actions:offsite_conversion.custom.220987758966192   \n",
       "4        7  actions:offsite_conversion.custom.220987758966192   \n",
       "5        3  actions:offsite_conversion.custom.220987758966192   \n",
       "6        2  actions:offsite_conversion.custom.220987758966192   \n",
       "7        2  actions:offsite_conversion.custom.220987758966192   \n",
       "8       19  actions:offsite_conversion.custom.220987758966192   \n",
       "9        6  actions:offsite_conversion.custom.220987758966192   \n",
       "\n",
       "   Cost per Results  Quiz Lead  Cost per Action Type Quiz Lead      Ends  \\\n",
       "0          6.926474          1                        6.926474  Contínuo   \n",
       "1          3.921047          3                        3.921047  Contínuo   \n",
       "2          3.361904          2                        3.361904  Contínuo   \n",
       "3          3.071157          2                        3.071157  Contínuo   \n",
       "4          3.033905          7                        3.033905  Contínuo   \n",
       "5          2.833928          3                        2.833928  Contínuo   \n",
       "6          2.659667          2                        2.659667  Contínuo   \n",
       "7          2.284519          2                        2.284519  Contínuo   \n",
       "8          2.270266         19                        2.270266  Contínuo   \n",
       "9          2.235080          6                        2.235080  Contínuo   \n",
       "\n",
       "   Last Significant Edit  \n",
       "0                      0  \n",
       "1                      0  \n",
       "2                      0  \n",
       "3                      0  \n",
       "4                      0  \n",
       "5                      0  \n",
       "6                      0  \n",
       "7                      0  \n",
       "8                      0  \n",
       "9                      0  \n",
       "\n",
       "[10 rows x 33 columns]"
      ]
     },
     "execution_count": 382,
     "metadata": {},
     "output_type": "execute_result"
    }
   ],
   "source": [
    "head[head['Cost per Results']>=2.20]"
   ]
  },
  {
   "cell_type": "code",
   "execution_count": 178,
   "metadata": {},
   "outputs": [],
   "source": [
    "df_image = image[['Campaign Name','CTR (Link Click-Through Rate)','Impressions','Amount Spent (BRL)','Results', 'Cost per Results', 'Cost per 1,000 People Reached (BRL)']]\n",
    "df_text =  text[['Campaign Name','CTR (Link Click-Through Rate)','Impressions','Amount Spent (BRL)','Results', 'Cost per Results', 'Cost per 1,000 People Reached (BRL)']]\n",
    "df_desc =  desc[['Campaign Name','CTR (Link Click-Through Rate)','Impressions','Amount Spent (BRL)','Results', 'Cost per Results', 'Cost per 1,000 People Reached (BRL)']]\n",
    "df_head =  head[['Campaign Name','CTR (Link Click-Through Rate)','Impressions','Amount Spent (BRL)','Results', 'Cost per Results', 'Cost per 1,000 People Reached (BRL)']]"
   ]
  },
  {
   "cell_type": "markdown",
   "metadata": {},
   "source": [
    "## Análise por CPL"
   ]
  },
  {
   "cell_type": "markdown",
   "metadata": {},
   "source": [
    "Abaixo são feitas análises em pares para verificar a similaridades entre as distribuiçõe, considerando a variável CPL"
   ]
  },
  {
   "cell_type": "code",
   "execution_count": 383,
   "metadata": {
    "scrolled": false
   },
   "outputs": [
    {
     "data": {
      "image/png": "[encoded data removed]",
      "text/plain": [
       "<Figure size 432x288 with 1 Axes>"
      ]
     },
     "metadata": {
      "needs_background": "light"
     },
     "output_type": "display_data"
    }
   ],
   "source": [
    "sns.distplot(df_image['Cost per Results'], label='Image, Video and SlideShow', color='blue')\n",
    "sns.distplot(df_text['Cost per Results'], label='Text', color ='red')\n",
    "plt.legend();"
   ]
  },
  {
   "cell_type": "code",
   "execution_count": 384,
   "metadata": {},
   "outputs": [
    {
     "name": "stdout",
     "output_type": "stream",
     "text": [
      "True\n"
     ]
    }
   ],
   "source": [
    "stats, p = sct.ttest_ind(df_image['Cost per Results'], df_text['Cost per Results'], equal_var=False, nan_policy='omit')\n",
    "alpha = 0.05\n",
    "if p > alpha:\n",
    "    print(True) #Aceita a hipotese nula (As médias são iguais)\n",
    "else:\n",
    "    print(False) #Rejeita a hipotese nula (As médias não são iguais)"
   ]
  },
  {
   "cell_type": "code",
   "execution_count": 385,
   "metadata": {},
   "outputs": [
    {
     "data": {
      "image/png": "[encoded data removed]",
      "text/plain": [
       "<Figure size 432x288 with 1 Axes>"
      ]
     },
     "metadata": {
      "needs_background": "light"
     },
     "output_type": "display_data"
    }
   ],
   "source": [
    "sns.distplot(df_image['Cost per Results'], label='Image, Video and SlideShow', color='blue')\n",
    "sns.distplot(df_desc['Cost per Results'], label='Description', color ='green')\n",
    "plt.legend();"
   ]
  },
  {
   "cell_type": "code",
   "execution_count": 386,
   "metadata": {},
   "outputs": [
    {
     "name": "stdout",
     "output_type": "stream",
     "text": [
      "True\n"
     ]
    }
   ],
   "source": [
    "stats, p = sct.ttest_ind(df_image['Cost per Results'], df_desc['Cost per Results'], equal_var=False, nan_policy='omit')\n",
    "alpha = 0.05\n",
    "if p > alpha:\n",
    "    print(True) #Aceita a hipotese nula (As médias são iguais)\n",
    "else:\n",
    "    print(False) #Rejeita a hipotese nula (As médias não são iguais)"
   ]
  },
  {
   "cell_type": "code",
   "execution_count": 387,
   "metadata": {},
   "outputs": [
    {
     "data": {
      "image/png": "[encoded data removed]",
      "text/plain": [
       "<Figure size 432x288 with 1 Axes>"
      ]
     },
     "metadata": {
      "needs_background": "light"
     },
     "output_type": "display_data"
    }
   ],
   "source": [
    "sns.distplot(df_image['Cost per Results'], label='Image, Video and SlideShow', color='blue')\n",
    "sns.distplot(df_head['Cost per Results'], label='headline', color ='yellow')\n",
    "plt.legend();"
   ]
  },
  {
   "cell_type": "code",
   "execution_count": 388,
   "metadata": {},
   "outputs": [
    {
     "name": "stdout",
     "output_type": "stream",
     "text": [
      "True\n"
     ]
    }
   ],
   "source": [
    "stats, p = sct.ttest_ind(df_image['Cost per Results'], df_head['Cost per Results'], equal_var=False, nan_policy='omit')\n",
    "alpha = 0.05\n",
    "if p > alpha:\n",
    "    print(True) #Aceita a hipotese nula (As médias são iguais)\n",
    "else:\n",
    "    print(False) #Rejeita a hipotese nula (As médias não são iguais)"
   ]
  },
  {
   "cell_type": "markdown",
   "metadata": {},
   "source": [
    "### Intervalo de confiança"
   ]
  },
  {
   "cell_type": "markdown",
   "metadata": {},
   "source": [
    "### Categoria Image, Video e SlideShow"
   ]
  },
  {
   "cell_type": "code",
   "execution_count": 338,
   "metadata": {},
   "outputs": [
    {
     "data": {
      "text/plain": [
       "(1.287035140122341, 1.5120969964642585)"
      ]
     },
     "execution_count": 338,
     "metadata": {},
     "output_type": "execute_result"
    }
   ],
   "source": [
    "df_image['CTR (Link Click-Through Rate)']\n",
    "im =  df_image['CTR (Link Click-Through Rate)']\n",
    "sms.DescrStatsW(im).tconfint_mean()"
   ]
  },
  {
   "cell_type": "markdown",
   "metadata": {},
   "source": [
    "### Categoria Text"
   ]
  },
  {
   "cell_type": "code",
   "execution_count": 339,
   "metadata": {},
   "outputs": [
    {
     "data": {
      "text/plain": [
       "(1.166699171298898, 1.3066239309079624)"
      ]
     },
     "execution_count": 339,
     "metadata": {},
     "output_type": "execute_result"
    }
   ],
   "source": [
    "tx =  df_text['Cost per Results']\n",
    "sms.DescrStatsW(tx).tconfint_mean()"
   ]
  },
  {
   "cell_type": "markdown",
   "metadata": {},
   "source": [
    "### Categoria description"
   ]
  },
  {
   "cell_type": "code",
   "execution_count": 341,
   "metadata": {},
   "outputs": [
    {
     "data": {
      "text/plain": [
       "(1.1515970270225702, 1.3041670087653014)"
      ]
     },
     "execution_count": 341,
     "metadata": {},
     "output_type": "execute_result"
    }
   ],
   "source": [
    "ds =  df_desc['Cost per Results']\n",
    "sms.DescrStatsW(ds).tconfint_mean()"
   ]
  },
  {
   "cell_type": "markdown",
   "metadata": {},
   "source": [
    "### Categoria description"
   ]
  },
  {
   "cell_type": "code",
   "execution_count": 340,
   "metadata": {},
   "outputs": [
    {
     "data": {
      "text/plain": [
       "(1.1516333801263576, 1.3393571301344644)"
      ]
     },
     "execution_count": 340,
     "metadata": {},
     "output_type": "execute_result"
    }
   ],
   "source": [
    "he =  df_head['Cost per Results']\n",
    "sms.DescrStatsW(he).tconfint_mean()"
   ]
  },
  {
   "cell_type": "markdown",
   "metadata": {},
   "source": [
    "## Análise por CTR"
   ]
  },
  {
   "cell_type": "code",
   "execution_count": 389,
   "metadata": {},
   "outputs": [
    {
     "ename": "SyntaxError",
     "evalue": "invalid syntax (<ipython-input-389-895974121647>, line 1)",
     "output_type": "error",
     "traceback": [
      "\u001b[1;36m  File \u001b[1;32m\"<ipython-input-389-895974121647>\"\u001b[1;36m, line \u001b[1;32m1\u001b[0m\n\u001b[1;33m    Abaixo são feitas análises em pares para verificar a similaridades entre as distribuiçõe, considerando a variável CTR\u001b[0m\n\u001b[1;37m             ^\u001b[0m\n\u001b[1;31mSyntaxError\u001b[0m\u001b[1;31m:\u001b[0m invalid syntax\n"
     ]
    }
   ],
   "source": [
    "Abaixo são feitas análises em pares para verificar a similaridades entre as distribuiçõe, considerando a variável CTR"
   ]
  },
  {
   "cell_type": "code",
   "execution_count": 344,
   "metadata": {},
   "outputs": [
    {
     "data": {
      "image/png": "[encoded data removed]",
      "text/plain": [
       "<Figure size 432x288 with 1 Axes>"
      ]
     },
     "metadata": {
      "needs_background": "light"
     },
     "output_type": "display_data"
    }
   ],
   "source": [
    "sns.distplot(df_image['CTR (Link Click-Through Rate)'], label='Image, Video and SlideShow', color='blue')\n",
    "sns.distplot(df_text['CTR (Link Click-Through Rate)'], label='Text', color ='red')\n",
    "plt.legend();"
   ]
  },
  {
   "cell_type": "code",
   "execution_count": 345,
   "metadata": {},
   "outputs": [
    {
     "name": "stdout",
     "output_type": "stream",
     "text": [
      "True\n"
     ]
    }
   ],
   "source": [
    "stats, p = sct.ttest_ind(df_image['CTR (Link Click-Through Rate)'], df_text['CTR (Link Click-Through Rate)'], equal_var=False, nan_policy='omit')\n",
    "alpha = 0.05\n",
    "if p > alpha:\n",
    "    print(True) #Aceita a hipotese nula (As médias são iguais)\n",
    "else:\n",
    "    print(False) #Rejeita a hipotese nula (As médias não são iguais)"
   ]
  },
  {
   "cell_type": "code",
   "execution_count": 346,
   "metadata": {},
   "outputs": [
    {
     "data": {
      "image/png": "[encoded data removed]",
      "text/plain": [
       "<Figure size 432x288 with 1 Axes>"
      ]
     },
     "metadata": {
      "needs_background": "light"
     },
     "output_type": "display_data"
    }
   ],
   "source": [
    "sns.distplot(df_image['CTR (Link Click-Through Rate)'], label='Image, Video and SlideShow', color='blue')\n",
    "sns.distplot(df_desc['CTR (Link Click-Through Rate)'], label='Description', color ='green')\n",
    "plt.legend();"
   ]
  },
  {
   "cell_type": "code",
   "execution_count": 347,
   "metadata": {},
   "outputs": [
    {
     "name": "stdout",
     "output_type": "stream",
     "text": [
      "True\n"
     ]
    }
   ],
   "source": [
    "stats, p = sct.ttest_ind(df_image['CTR (Link Click-Through Rate)'], df_desc['CTR (Link Click-Through Rate)'], equal_var=False, nan_policy='omit')\n",
    "alpha = 0.05\n",
    "if p > alpha:\n",
    "    print(True) #Aceita a hipotese nula (As médias são iguais)\n",
    "else:\n",
    "    print(False) #Rejeita a hipotese nula (As médias não são iguais)"
   ]
  },
  {
   "cell_type": "code",
   "execution_count": 348,
   "metadata": {},
   "outputs": [
    {
     "data": {
      "image/png": "[encoded data removed]",
      "text/plain": [
       "<Figure size 432x288 with 1 Axes>"
      ]
     },
     "metadata": {
      "needs_background": "light"
     },
     "output_type": "display_data"
    }
   ],
   "source": [
    "sns.distplot(df_image['CTR (Link Click-Through Rate)'], label='Image, Video and SlideShow', color='blue')\n",
    "sns.distplot(df_head['CTR (Link Click-Through Rate)'], label='headline', color ='yellow')\n",
    "plt.legend();"
   ]
  },
  {
   "cell_type": "code",
   "execution_count": 349,
   "metadata": {},
   "outputs": [
    {
     "name": "stdout",
     "output_type": "stream",
     "text": [
      "True\n"
     ]
    }
   ],
   "source": [
    "stats, p = sct.ttest_ind(df_image['CTR (Link Click-Through Rate)'], df_head['CTR (Link Click-Through Rate)'], equal_var=False, nan_policy='omit')\n",
    "alpha = 0.05\n",
    "if p > alpha:\n",
    "    print(True) #Aceita a hipotese nula (As médias são iguais)\n",
    "else:\n",
    "    print(False) #Rejeita a hipotese nula (As médias não são iguais)"
   ]
  },
  {
   "cell_type": "markdown",
   "metadata": {},
   "source": [
    "### Intervalo de confiança categoria Image, Video and SlideShow"
   ]
  },
  {
   "cell_type": "code",
   "execution_count": 350,
   "metadata": {},
   "outputs": [
    {
     "data": {
      "text/plain": [
       "(1.287035140122341, 1.5120969964642585)"
      ]
     },
     "execution_count": 350,
     "metadata": {},
     "output_type": "execute_result"
    }
   ],
   "source": [
    "im =  df_image['CTR (Link Click-Through Rate)']\n",
    "sms.DescrStatsW(im).tconfint_mean()"
   ]
  },
  {
   "cell_type": "markdown",
   "metadata": {},
   "source": [
    "### Intervalo de confiança categoria text"
   ]
  },
  {
   "cell_type": "code",
   "execution_count": 351,
   "metadata": {},
   "outputs": [
    {
     "data": {
      "text/plain": [
       "(1.3539126551489502, 1.4997237429303107)"
      ]
     },
     "execution_count": 351,
     "metadata": {},
     "output_type": "execute_result"
    }
   ],
   "source": [
    "tx =  df_text['CTR (Link Click-Through Rate)']\n",
    "sms.DescrStatsW(tx).tconfint_mean()"
   ]
  },
  {
   "cell_type": "markdown",
   "metadata": {},
   "source": [
    "### Intervalo de confiança categoria description"
   ]
  },
  {
   "cell_type": "code",
   "execution_count": 352,
   "metadata": {},
   "outputs": [
    {
     "data": {
      "text/plain": [
       "(1.4356334450991928, 1.6312013099887466)"
      ]
     },
     "execution_count": 352,
     "metadata": {},
     "output_type": "execute_result"
    }
   ],
   "source": [
    "ds =  df_desc['CTR (Link Click-Through Rate)']\n",
    "sms.DescrStatsW(ds).tconfint_mean()"
   ]
  },
  {
   "cell_type": "markdown",
   "metadata": {},
   "source": [
    "### Intervalo de confiança categoria description head"
   ]
  },
  {
   "cell_type": "code",
   "execution_count": 353,
   "metadata": {},
   "outputs": [
    {
     "data": {
      "text/plain": [
       "(1.4473030964235483, 1.6410008636665998)"
      ]
     },
     "execution_count": 353,
     "metadata": {},
     "output_type": "execute_result"
    }
   ],
   "source": [
    "he =  df_head['CTR (Link Click-Through Rate)']\n",
    "sms.DescrStatsW(he).tconfint_mean()"
   ]
  },
  {
   "cell_type": "code",
   "execution_count": 176,
   "metadata": {
    "scrolled": true
   },
   "outputs": [
    {
     "data": {
      "text/plain": [
       "array(['quiz13facebook', 'quiz16facebook', 'quiz8facebook',\n",
       "       'quiz10facebook', 'quiz11facebook', 'quiz6facebook',\n",
       "       'quiz14facebook', 'quiz9facebook', 'quiz2facebook',\n",
       "       'quiz5facebook', 'quiz7facebook', 'quiz12facebook',\n",
       "       'quiz15facebook', 'quiz3facebook', 'quiz4facebook'], dtype=object)"
      ]
     },
     "execution_count": 176,
     "metadata": {},
     "output_type": "execute_result"
    }
   ],
   "source": [
    "df_image['Campaign Name'].unique()"
   ]
  },
  {
   "cell_type": "markdown",
   "metadata": {},
   "source": [
    "## Análise por Custo por 1000 pessoas alcançadas"
   ]
  },
  {
   "cell_type": "markdown",
   "metadata": {},
   "source": [
    "Abaixo são feitas análises em pares para verificar a similaridades entre as distribuiçõe, considerando a variável Custo por 1000 pessoas alcançadas"
   ]
  },
  {
   "cell_type": "code",
   "execution_count": 391,
   "metadata": {},
   "outputs": [
    {
     "data": {
      "image/png": "[encoded data removed]",
      "text/plain": [
       "<Figure size 432x288 with 1 Axes>"
      ]
     },
     "metadata": {
      "needs_background": "light"
     },
     "output_type": "display_data"
    }
   ],
   "source": [
    "sns.distplot(df_image['Cost per 1,000 People Reached (BRL)'], label='Image, Video and SlideShow', color='blue')\n",
    "sns.distplot(df_text['Cost per 1,000 People Reached (BRL)'], label='Text', color ='red')\n",
    "plt.legend();"
   ]
  },
  {
   "cell_type": "code",
   "execution_count": 392,
   "metadata": {},
   "outputs": [
    {
     "name": "stdout",
     "output_type": "stream",
     "text": [
      "False\n"
     ]
    }
   ],
   "source": [
    "stats, p = sct.ttest_ind(df_image['Cost per 1,000 People Reached (BRL)'], df_text['Cost per 1,000 People Reached (BRL)'], equal_var=False, nan_policy='omit')\n",
    "alpha = 0.05\n",
    "if p > alpha:\n",
    "    print(True) #Aceita a hipotese nula (As médias são iguais)\n",
    "else:\n",
    "    print(False) #Rejeita a hipotese nula (As médias não são iguais)"
   ]
  },
  {
   "cell_type": "code",
   "execution_count": 393,
   "metadata": {},
   "outputs": [
    {
     "data": {
      "image/png": "[encoded data removed]",
      "text/plain": [
       "<Figure size 432x288 with 1 Axes>"
      ]
     },
     "metadata": {
      "needs_background": "light"
     },
     "output_type": "display_data"
    }
   ],
   "source": [
    "sns.distplot(df_image['Cost per 1,000 People Reached (BRL)'], label='Image, Video and SlideShow', color='blue')\n",
    "sns.distplot(df_desc['Cost per 1,000 People Reached (BRL)'], label='Description', color ='green')\n",
    "plt.legend();"
   ]
  },
  {
   "cell_type": "code",
   "execution_count": 394,
   "metadata": {},
   "outputs": [
    {
     "name": "stdout",
     "output_type": "stream",
     "text": [
      "False\n"
     ]
    }
   ],
   "source": [
    "stats, p = sct.ttest_ind(df_image['Cost per 1,000 People Reached (BRL)'], df_desc['Cost per 1,000 People Reached (BRL)'], equal_var=False, nan_policy='omit')\n",
    "alpha = 0.05\n",
    "if p > alpha:\n",
    "    print(True) #Aceita a hipotese nula (As médias são iguais)\n",
    "else:\n",
    "    print(False) #Rejeita a hipotese nula (As médias não são iguais)"
   ]
  },
  {
   "cell_type": "code",
   "execution_count": 395,
   "metadata": {},
   "outputs": [
    {
     "data": {
      "image/png": "[encoded data removed]",
      "text/plain": [
       "<Figure size 432x288 with 1 Axes>"
      ]
     },
     "metadata": {
      "needs_background": "light"
     },
     "output_type": "display_data"
    }
   ],
   "source": [
    "sns.distplot(df_image['Cost per 1,000 People Reached (BRL)'], label='Image, Video and SlideShow', color='blue')\n",
    "sns.distplot(df_head['Cost per 1,000 People Reached (BRL)'], label='headline', color ='yellow')\n",
    "plt.legend();"
   ]
  },
  {
   "cell_type": "code",
   "execution_count": 396,
   "metadata": {},
   "outputs": [
    {
     "name": "stdout",
     "output_type": "stream",
     "text": [
      "False\n"
     ]
    }
   ],
   "source": [
    "stats, p = sct.ttest_ind(df_image['Cost per 1,000 People Reached (BRL)'], df_desc['Cost per 1,000 People Reached (BRL)'], equal_var=False, nan_policy='omit')\n",
    "alpha = 0.05\n",
    "if p > alpha:\n",
    "    print(True) #Aceita a hipotese nula (As médias são iguais)\n",
    "else:\n",
    "    print(False) #Rejeita a hipotese nula (As médias não são iguais)"
   ]
  },
  {
   "cell_type": "code",
   "execution_count": 397,
   "metadata": {},
   "outputs": [
    {
     "data": {
      "image/png": "[encoded data removed]",
      "text/plain": [
       "<Figure size 432x288 with 1 Axes>"
      ]
     },
     "metadata": {
      "needs_background": "light"
     },
     "output_type": "display_data"
    }
   ],
   "source": [
    "sns.distplot(df_desc['Cost per 1,000 People Reached (BRL)'], label='Description', color='green')\n",
    "sns.distplot(df_text['Cost per 1,000 People Reached (BRL)'], label='Text', color ='red')\n",
    "plt.legend();"
   ]
  },
  {
   "cell_type": "code",
   "execution_count": 398,
   "metadata": {},
   "outputs": [
    {
     "name": "stdout",
     "output_type": "stream",
     "text": [
      "True\n"
     ]
    }
   ],
   "source": [
    "stats, p = sct.ttest_ind(df_text['Cost per 1,000 People Reached (BRL)'], df_desc['Cost per 1,000 People Reached (BRL)'], equal_var=False, nan_policy='omit')\n",
    "alpha = 0.05\n",
    "if p > alpha:\n",
    "    print(True) #Aceita a hipotese nula (As médias são iguais)\n",
    "else:\n",
    "    print(False) #Rejeita a hipotese nula (As médias não são iguais)"
   ]
  },
  {
   "cell_type": "code",
   "execution_count": 399,
   "metadata": {},
   "outputs": [
    {
     "data": {
      "image/png": "[encoded data removed]",
      "text/plain": [
       "<Figure size 432x288 with 1 Axes>"
      ]
     },
     "metadata": {
      "needs_background": "light"
     },
     "output_type": "display_data"
    }
   ],
   "source": [
    "sns.distplot(df_desc['Cost per 1,000 People Reached (BRL)'], label='Description', color='green')\n",
    "sns.distplot(df_head['Cost per 1,000 People Reached (BRL)'], label='Headline', color ='red')\n",
    "plt.legend();"
   ]
  },
  {
   "cell_type": "code",
   "execution_count": 400,
   "metadata": {},
   "outputs": [
    {
     "name": "stdout",
     "output_type": "stream",
     "text": [
      "True\n"
     ]
    }
   ],
   "source": [
    "stats, p = sct.ttest_ind(df_text['Cost per 1,000 People Reached (BRL)'], df_desc['Cost per 1,000 People Reached (BRL)'], equal_var=False, nan_policy='omit')\n",
    "alpha = 0.05\n",
    "if p > alpha:\n",
    "    print(True) #Aceita a hipotese nula (As médias são iguais)\n",
    "else:\n",
    "    print(False) #Rejeita a hipotese nula (As médias não são iguais)"
   ]
  },
  {
   "cell_type": "markdown",
   "metadata": {},
   "source": [
    "### Intervalo de confiança Image"
   ]
  },
  {
   "cell_type": "code",
   "execution_count": 401,
   "metadata": {},
   "outputs": [
    {
     "data": {
      "text/plain": [
       "(6.69694450178078, 7.3267375731071125)"
      ]
     },
     "execution_count": 401,
     "metadata": {},
     "output_type": "execute_result"
    }
   ],
   "source": [
    "im =  df_image['Cost per 1,000 People Reached (BRL)']\n",
    "sms.DescrStatsW(im).tconfint_mean()"
   ]
  },
  {
   "cell_type": "markdown",
   "metadata": {},
   "source": [
    "### Intervalo de confiança Headline"
   ]
  },
  {
   "cell_type": "code",
   "execution_count": 402,
   "metadata": {},
   "outputs": [
    {
     "data": {
      "text/plain": [
       "(7.692292681034409, 8.500413382880932)"
      ]
     },
     "execution_count": 402,
     "metadata": {},
     "output_type": "execute_result"
    }
   ],
   "source": [
    "he =  df_head['Cost per 1,000 People Reached (BRL)']\n",
    "sms.DescrStatsW(he).tconfint_mean()"
   ]
  },
  {
   "cell_type": "markdown",
   "metadata": {},
   "source": [
    "### Intervalo de confiança Descripition"
   ]
  },
  {
   "cell_type": "code",
   "execution_count": 403,
   "metadata": {},
   "outputs": [
    {
     "data": {
      "text/plain": [
       "(7.702297802663768, 8.446735044531998)"
      ]
     },
     "execution_count": 403,
     "metadata": {},
     "output_type": "execute_result"
    }
   ],
   "source": [
    "ds =  df_desc['Cost per 1,000 People Reached (BRL)']\n",
    "sms.DescrStatsW(ds).tconfint_mean()"
   ]
  },
  {
   "cell_type": "markdown",
   "metadata": {},
   "source": [
    "### Intervalo de confiança Text"
   ]
  },
  {
   "cell_type": "code",
   "execution_count": 404,
   "metadata": {},
   "outputs": [
    {
     "data": {
      "text/plain": [
       "(7.7736416998383575, 8.475798328627253)"
      ]
     },
     "execution_count": 404,
     "metadata": {},
     "output_type": "execute_result"
    }
   ],
   "source": [
    "tx =  df_text['Cost per 1,000 People Reached (BRL)']\n",
    "sms.DescrStatsW(tx).tconfint_mean()"
   ]
  },
  {
   "cell_type": "markdown",
   "metadata": {},
   "source": [
    "# Análise dos anúncios que devem ser tratados (melhorar segmentação, ou modificar palavras chaves do anúncio)"
   ]
  },
  {
   "cell_type": "markdown",
   "metadata": {},
   "source": [
    "São feitas análises com relação aos outliers da CPL da categoria Imagem (que apresentou maior variação entre as campanhas)"
   ]
  },
  {
   "cell_type": "markdown",
   "metadata": {},
   "source": [
    "### Campanha quiz 15"
   ]
  },
  {
   "cell_type": "code",
   "execution_count": 182,
   "metadata": {},
   "outputs": [],
   "source": [
    "lista_index = []\n",
    "for i in range(df_image.shape[0]):\n",
    "    if df_image['Campaign Name'][i]=='quiz15facebook':\n",
    "        lista_index.append(i)\n",
    "\n",
    "df_image_quiz15 = df_image.iloc[lista_index]"
   ]
  },
  {
   "cell_type": "code",
   "execution_count": 179,
   "metadata": {},
   "outputs": [
    {
     "data": {
      "text/plain": [
       "<matplotlib.axes._subplots.AxesSubplot at 0x1a2d8887f88>"
      ]
     },
     "execution_count": 179,
     "metadata": {},
     "output_type": "execute_result"
    },
    {
     "data": {
      "image/png": "[encoded data removed]",
      "text/plain": [
       "<Figure size 432x288 with 1 Axes>"
      ]
     },
     "metadata": {
      "needs_background": "light"
     },
     "output_type": "display_data"
    }
   ],
   "source": [
    "sns.boxplot(df_image_quiz15['Cost per Results'], orient='vertical')"
   ]
  },
  {
   "cell_type": "code",
   "execution_count": 180,
   "metadata": {},
   "outputs": [
    {
     "data": {
      "text/plain": [
       "count    28.000000\n",
       "mean      1.297881\n",
       "std       1.365819\n",
       "min       0.090591\n",
       "25%       0.647585\n",
       "50%       1.052280\n",
       "75%       1.367235\n",
       "max       7.482782\n",
       "Name: Cost per Results, dtype: float64"
      ]
     },
     "execution_count": 180,
     "metadata": {},
     "output_type": "execute_result"
    }
   ],
   "source": [
    "df_image_quiz15['Cost per Results'].describe()"
   ]
  },
  {
   "cell_type": "code",
   "execution_count": 181,
   "metadata": {},
   "outputs": [
    {
     "data": {
      "text/html": [
       "<div>\n",
       "<style scoped>\n",
       "    .dataframe tbody tr th:only-of-type {\n",
       "        vertical-align: middle;\n",
       "    }\n",
       "\n",
       "    .dataframe tbody tr th {\n",
       "        vertical-align: top;\n",
       "    }\n",
       "\n",
       "    .dataframe thead th {\n",
       "        text-align: right;\n",
       "    }\n",
       "</style>\n",
       "<table border=\"1\" class=\"dataframe\">\n",
       "  <thead>\n",
       "    <tr style=\"text-align: right;\">\n",
       "      <th></th>\n",
       "      <th>Campaign Name</th>\n",
       "      <th>CTR (Link Click-Through Rate)</th>\n",
       "      <th>Impressions</th>\n",
       "      <th>Amount Spent (BRL)</th>\n",
       "      <th>Results</th>\n",
       "      <th>Cost per Results</th>\n",
       "      <th>Cost per 1,000 People Reached (BRL)</th>\n",
       "    </tr>\n",
       "  </thead>\n",
       "  <tbody>\n",
       "    <tr>\n",
       "      <th>106</th>\n",
       "      <td>quiz15facebook</td>\n",
       "      <td>0.998336</td>\n",
       "      <td>410</td>\n",
       "      <td>2.533957</td>\n",
       "      <td>2.0</td>\n",
       "      <td>1.772767</td>\n",
       "      <td>5.899389</td>\n",
       "    </tr>\n",
       "    <tr>\n",
       "      <th>110</th>\n",
       "      <td>quiz15facebook</td>\n",
       "      <td>0.143403</td>\n",
       "      <td>2092</td>\n",
       "      <td>8.802132</td>\n",
       "      <td>1.0</td>\n",
       "      <td>7.482782</td>\n",
       "      <td>3.600954</td>\n",
       "    </tr>\n",
       "    <tr>\n",
       "      <th>127</th>\n",
       "      <td>quiz15facebook</td>\n",
       "      <td>0.790033</td>\n",
       "      <td>22940</td>\n",
       "      <td>171.686846</td>\n",
       "      <td>6.0</td>\n",
       "      <td>3.150277</td>\n",
       "      <td>5.927145</td>\n",
       "    </tr>\n",
       "    <tr>\n",
       "      <th>158</th>\n",
       "      <td>quiz15facebook</td>\n",
       "      <td>0.786026</td>\n",
       "      <td>431</td>\n",
       "      <td>3.088291</td>\n",
       "      <td>10.0</td>\n",
       "      <td>1.725504</td>\n",
       "      <td>6.445662</td>\n",
       "    </tr>\n",
       "    <tr>\n",
       "      <th>197</th>\n",
       "      <td>quiz15facebook</td>\n",
       "      <td>2.155172</td>\n",
       "      <td>3515</td>\n",
       "      <td>14.626629</td>\n",
       "      <td>2.0</td>\n",
       "      <td>1.549856</td>\n",
       "      <td>13.418664</td>\n",
       "    </tr>\n",
       "    <tr>\n",
       "      <th>374</th>\n",
       "      <td>quiz15facebook</td>\n",
       "      <td>1.699029</td>\n",
       "      <td>199</td>\n",
       "      <td>0.442622</td>\n",
       "      <td>1.0</td>\n",
       "      <td>1.559513</td>\n",
       "      <td>3.812990</td>\n",
       "    </tr>\n",
       "    <tr>\n",
       "      <th>375</th>\n",
       "      <td>quiz15facebook</td>\n",
       "      <td>0.651466</td>\n",
       "      <td>10</td>\n",
       "      <td>0.050277</td>\n",
       "      <td>1.0</td>\n",
       "      <td>2.193379</td>\n",
       "      <td>7.262846</td>\n",
       "    </tr>\n",
       "  </tbody>\n",
       "</table>\n",
       "</div>"
      ],
      "text/plain": [
       "      Campaign Name  CTR (Link Click-Through Rate)  Impressions  \\\n",
       "106  quiz15facebook                       0.998336          410   \n",
       "110  quiz15facebook                       0.143403         2092   \n",
       "127  quiz15facebook                       0.790033        22940   \n",
       "158  quiz15facebook                       0.786026          431   \n",
       "197  quiz15facebook                       2.155172         3515   \n",
       "374  quiz15facebook                       1.699029          199   \n",
       "375  quiz15facebook                       0.651466           10   \n",
       "\n",
       "     Amount Spent (BRL)  Results  Cost per Results  \\\n",
       "106            2.533957      2.0          1.772767   \n",
       "110            8.802132      1.0          7.482782   \n",
       "127          171.686846      6.0          3.150277   \n",
       "158            3.088291     10.0          1.725504   \n",
       "197           14.626629      2.0          1.549856   \n",
       "374            0.442622      1.0          1.559513   \n",
       "375            0.050277      1.0          2.193379   \n",
       "\n",
       "     Cost per 1,000 People Reached (BRL)  \n",
       "106                             5.899389  \n",
       "110                             3.600954  \n",
       "127                             5.927145  \n",
       "158                             6.445662  \n",
       "197                            13.418664  \n",
       "374                             3.812990  \n",
       "375                             7.262846  "
      ]
     },
     "execution_count": 181,
     "metadata": {},
     "output_type": "execute_result"
    }
   ],
   "source": [
    "df_image_quiz15[df_image_quiz15['Cost per Results']>=1.367235]"
   ]
  },
  {
   "cell_type": "markdown",
   "metadata": {},
   "source": [
    "No boxplot acima, verifica-se que existem anúncios com elevado CPL (outliers) que estão prejudicando o desempenho dessa campanha. São pelos menos 3 que possuem CPL muito altos com valores de 7.4827, 4.15 e 2.19."
   ]
  },
  {
   "cell_type": "markdown",
   "metadata": {},
   "source": [
    "## Campanha quiz 03"
   ]
  },
  {
   "cell_type": "code",
   "execution_count": 208,
   "metadata": {},
   "outputs": [],
   "source": [
    "lista_index = []\n",
    "for i in range(df_image.shape[0]):\n",
    "    if df_image['Campaign Name'][i]=='quiz3facebook':\n",
    "        lista_index.append(i)\n",
    "\n",
    "df_image_quiz3 = df_image.iloc[lista_index]"
   ]
  },
  {
   "cell_type": "code",
   "execution_count": 209,
   "metadata": {},
   "outputs": [
    {
     "data": {
      "text/plain": [
       "<matplotlib.axes._subplots.AxesSubplot at 0x1a2d776a748>"
      ]
     },
     "execution_count": 209,
     "metadata": {},
     "output_type": "execute_result"
    },
    {
     "data": {
      "image/png": "[encoded data removed]",
      "text/plain": [
       "<Figure size 432x288 with 1 Axes>"
      ]
     },
     "metadata": {
      "needs_background": "light"
     },
     "output_type": "display_data"
    }
   ],
   "source": [
    "sns.boxplot(df_image_quiz3['Cost per Results'], orient='vertical')"
   ]
  },
  {
   "cell_type": "code",
   "execution_count": 210,
   "metadata": {},
   "outputs": [
    {
     "data": {
      "text/plain": [
       "count    24.000000\n",
       "mean      1.595795\n",
       "std       1.594064\n",
       "min       0.181088\n",
       "25%       0.688949\n",
       "50%       1.142292\n",
       "75%       1.717178\n",
       "max       7.272713\n",
       "Name: Cost per Results, dtype: float64"
      ]
     },
     "execution_count": 210,
     "metadata": {},
     "output_type": "execute_result"
    }
   ],
   "source": [
    "df_image_quiz3['Cost per Results'].describe()"
   ]
  },
  {
   "cell_type": "code",
   "execution_count": 211,
   "metadata": {},
   "outputs": [
    {
     "data": {
      "text/html": [
       "<div>\n",
       "<style scoped>\n",
       "    .dataframe tbody tr th:only-of-type {\n",
       "        vertical-align: middle;\n",
       "    }\n",
       "\n",
       "    .dataframe tbody tr th {\n",
       "        vertical-align: top;\n",
       "    }\n",
       "\n",
       "    .dataframe thead th {\n",
       "        text-align: right;\n",
       "    }\n",
       "</style>\n",
       "<table border=\"1\" class=\"dataframe\">\n",
       "  <thead>\n",
       "    <tr style=\"text-align: right;\">\n",
       "      <th></th>\n",
       "      <th>Campaign Name</th>\n",
       "      <th>CTR (Link Click-Through Rate)</th>\n",
       "      <th>Impressions</th>\n",
       "      <th>Amount Spent (BRL)</th>\n",
       "      <th>Results</th>\n",
       "      <th>Cost per Results</th>\n",
       "      <th>Cost per 1,000 People Reached (BRL)</th>\n",
       "    </tr>\n",
       "  </thead>\n",
       "  <tbody>\n",
       "    <tr>\n",
       "      <th>172</th>\n",
       "      <td>quiz3facebook</td>\n",
       "      <td>1.396648</td>\n",
       "      <td>33786</td>\n",
       "      <td>236.768648</td>\n",
       "      <td>1.0</td>\n",
       "      <td>1.798685</td>\n",
       "      <td>5.168636</td>\n",
       "    </tr>\n",
       "    <tr>\n",
       "      <th>198</th>\n",
       "      <td>quiz3facebook</td>\n",
       "      <td>0.811908</td>\n",
       "      <td>121767</td>\n",
       "      <td>595.394604</td>\n",
       "      <td>2.0</td>\n",
       "      <td>3.589140</td>\n",
       "      <td>9.713504</td>\n",
       "    </tr>\n",
       "    <tr>\n",
       "      <th>202</th>\n",
       "      <td>quiz3facebook</td>\n",
       "      <td>0.250941</td>\n",
       "      <td>19858</td>\n",
       "      <td>75.900848</td>\n",
       "      <td>1.0</td>\n",
       "      <td>7.272713</td>\n",
       "      <td>9.171139</td>\n",
       "    </tr>\n",
       "    <tr>\n",
       "      <th>401</th>\n",
       "      <td>quiz3facebook</td>\n",
       "      <td>2.434077</td>\n",
       "      <td>79</td>\n",
       "      <td>0.653805</td>\n",
       "      <td>3.0</td>\n",
       "      <td>2.085131</td>\n",
       "      <td>12.766107</td>\n",
       "    </tr>\n",
       "    <tr>\n",
       "      <th>404</th>\n",
       "      <td>quiz3facebook</td>\n",
       "      <td>1.694915</td>\n",
       "      <td>133</td>\n",
       "      <td>0.533103</td>\n",
       "      <td>2.0</td>\n",
       "      <td>4.663023</td>\n",
       "      <td>9.429773</td>\n",
       "    </tr>\n",
       "    <tr>\n",
       "      <th>406</th>\n",
       "      <td>quiz3facebook</td>\n",
       "      <td>1.230228</td>\n",
       "      <td>28</td>\n",
       "      <td>0.111055</td>\n",
       "      <td>2.0</td>\n",
       "      <td>2.233075</td>\n",
       "      <td>7.849121</td>\n",
       "    </tr>\n",
       "  </tbody>\n",
       "</table>\n",
       "</div>"
      ],
      "text/plain": [
       "     Campaign Name  CTR (Link Click-Through Rate)  Impressions  \\\n",
       "172  quiz3facebook                       1.396648        33786   \n",
       "198  quiz3facebook                       0.811908       121767   \n",
       "202  quiz3facebook                       0.250941        19858   \n",
       "401  quiz3facebook                       2.434077           79   \n",
       "404  quiz3facebook                       1.694915          133   \n",
       "406  quiz3facebook                       1.230228           28   \n",
       "\n",
       "     Amount Spent (BRL)  Results  Cost per Results  \\\n",
       "172          236.768648      1.0          1.798685   \n",
       "198          595.394604      2.0          3.589140   \n",
       "202           75.900848      1.0          7.272713   \n",
       "401            0.653805      3.0          2.085131   \n",
       "404            0.533103      2.0          4.663023   \n",
       "406            0.111055      2.0          2.233075   \n",
       "\n",
       "     Cost per 1,000 People Reached (BRL)  \n",
       "172                             5.168636  \n",
       "198                             9.713504  \n",
       "202                             9.171139  \n",
       "401                            12.766107  \n",
       "404                             9.429773  \n",
       "406                             7.849121  "
      ]
     },
     "execution_count": 211,
     "metadata": {},
     "output_type": "execute_result"
    }
   ],
   "source": [
    "df_image_quiz3[df_image_quiz3['Cost per Results']>=1.717178]"
   ]
  },
  {
   "cell_type": "markdown",
   "metadata": {},
   "source": [
    "O mesmo comportamento se repete, verifica-se que existem anúncios com elevado CPL (outliers) que estão prejudicando o desempenho dessa campanha. São pelos menos 4 que possuem CPL muito altos com valores de 7.2727, 4.6630, 3.5891 e 2.2330."
   ]
  },
  {
   "cell_type": "markdown",
   "metadata": {},
   "source": [
    "**Separando os anúncios da categoria Image, Video and SlidShow em campanhas**"
   ]
  },
  {
   "cell_type": "code",
   "execution_count": 229,
   "metadata": {},
   "outputs": [],
   "source": [
    "lista_index = []\n",
    "for i in range(df_image.shape[0]):\n",
    "    if df_image['Campaign Name'][i]=='quiz2facebook':\n",
    "        lista_index.append(i)\n",
    "\n",
    "df_image_quiz2 = df_image.iloc[lista_index]"
   ]
  },
  {
   "cell_type": "code",
   "execution_count": 230,
   "metadata": {},
   "outputs": [],
   "source": [
    "lista_index = []\n",
    "for i in range(df_image.shape[0]):\n",
    "    if df_image['Campaign Name'][i]=='quiz4facebook':\n",
    "        lista_index.append(i)\n",
    "\n",
    "df_image_quiz4 = df_image.iloc[lista_index]"
   ]
  },
  {
   "cell_type": "code",
   "execution_count": 231,
   "metadata": {},
   "outputs": [],
   "source": [
    "lista_index = []\n",
    "for i in range(df_image.shape[0]):\n",
    "    if df_image['Campaign Name'][i]=='quiz5facebook':\n",
    "        lista_index.append(i)\n",
    "\n",
    "df_image_quiz5 = df_image.iloc[lista_index]"
   ]
  },
  {
   "cell_type": "code",
   "execution_count": 232,
   "metadata": {},
   "outputs": [],
   "source": [
    "lista_index = []\n",
    "for i in range(df_image.shape[0]):\n",
    "    if df_image['Campaign Name'][i]=='quiz6facebook':\n",
    "        lista_index.append(i)\n",
    "\n",
    "df_image_quiz6 = df_image.iloc[lista_index]"
   ]
  },
  {
   "cell_type": "code",
   "execution_count": 233,
   "metadata": {},
   "outputs": [],
   "source": [
    "lista_index = []\n",
    "for i in range(df_image.shape[0]):\n",
    "    if df_image['Campaign Name'][i]=='quiz7facebook':\n",
    "        lista_index.append(i)\n",
    "\n",
    "df_image_quiz7 = df_image.iloc[lista_index]"
   ]
  },
  {
   "cell_type": "code",
   "execution_count": 234,
   "metadata": {},
   "outputs": [],
   "source": [
    "lista_index = []\n",
    "for i in range(df_image.shape[0]):\n",
    "    if df_image['Campaign Name'][i]=='quiz8facebook':\n",
    "        lista_index.append(i)\n",
    "\n",
    "df_image_quiz8 = df_image.iloc[lista_index]"
   ]
  },
  {
   "cell_type": "code",
   "execution_count": 235,
   "metadata": {},
   "outputs": [],
   "source": [
    "lista_index = []\n",
    "for i in range(df_image.shape[0]):\n",
    "    if df_image['Campaign Name'][i]=='quiz9facebook':\n",
    "        lista_index.append(i)\n",
    "\n",
    "df_image_quiz9 = df_image.iloc[lista_index]"
   ]
  },
  {
   "cell_type": "code",
   "execution_count": 253,
   "metadata": {},
   "outputs": [],
   "source": [
    "lista_index = []\n",
    "for i in range(df_image.shape[0]):\n",
    "    if df_image['Campaign Name'][i]=='quiz10facebook':\n",
    "        lista_index.append(i)\n",
    "\n",
    "df_image_quiz10 = df_image.iloc[lista_index]"
   ]
  },
  {
   "cell_type": "code",
   "execution_count": 255,
   "metadata": {},
   "outputs": [],
   "source": [
    "lista_index = []\n",
    "for i in range(df_image.shape[0]):\n",
    "    if df_image['Campaign Name'][i]=='quiz11facebook':\n",
    "        lista_index.append(i)\n",
    "\n",
    "df_image_quiz11 = df_image.iloc[lista_index]"
   ]
  },
  {
   "cell_type": "code",
   "execution_count": 237,
   "metadata": {},
   "outputs": [],
   "source": [
    "lista_index = []\n",
    "for i in range(df_image.shape[0]):\n",
    "    if df_image['Campaign Name'][i]=='quiz12facebook':\n",
    "        lista_index.append(i)\n",
    "\n",
    "df_image_quiz12 = df_image.iloc[lista_index]"
   ]
  },
  {
   "cell_type": "code",
   "execution_count": 238,
   "metadata": {},
   "outputs": [],
   "source": [
    "lista_index = []\n",
    "for i in range(df_image.shape[0]):\n",
    "    if df_image['Campaign Name'][i]=='quiz13facebook':\n",
    "        lista_index.append(i)\n",
    "\n",
    "df_image_quiz13 = df_image.iloc[lista_index]"
   ]
  },
  {
   "cell_type": "code",
   "execution_count": 239,
   "metadata": {},
   "outputs": [],
   "source": [
    "lista_index = []\n",
    "for i in range(df_image.shape[0]):\n",
    "    if df_image['Campaign Name'][i]=='quiz14facebook':\n",
    "        lista_index.append(i)\n",
    "\n",
    "df_image_quiz14 = df_image.iloc[lista_index]"
   ]
  },
  {
   "cell_type": "code",
   "execution_count": 240,
   "metadata": {},
   "outputs": [],
   "source": [
    "lista_index = []\n",
    "for i in range(df_image.shape[0]):\n",
    "    if df_image['Campaign Name'][i]=='quiz16facebook':\n",
    "        lista_index.append(i)\n",
    "\n",
    "df_image_quiz16 = df_image.iloc[lista_index]"
   ]
  },
  {
   "cell_type": "markdown",
   "metadata": {},
   "source": [
    "**Criando boxplots para verificar a presença de outliers**"
   ]
  },
  {
   "cell_type": "code",
   "execution_count": 277,
   "metadata": {},
   "outputs": [
    {
     "data": {
      "text/plain": [
       "Text(0.5, 1.0, 'quiz16')"
      ]
     },
     "execution_count": 277,
     "metadata": {},
     "output_type": "execute_result"
    },
    {
     "data": {
      "image/png": "[encoded data removed]",
      "text/plain": [
       "<Figure size 1152x1152 with 15 Axes>"
      ]
     },
     "metadata": {
      "needs_background": "light"
     },
     "output_type": "display_data"
    }
   ],
   "source": [
    "plt.figure(figsize=(16, 16))\n",
    "ax2 = plt.subplot(5, 3, 1)\n",
    "sns.boxplot(df_image_quiz2['Cost per Results'], orient='vertical')\n",
    "ax2.set_title('quiz2')\n",
    "\n",
    "ax3 = plt.subplot(5, 3, 2)\n",
    "sns.boxplot(df_image_quiz3['Cost per Results'], orient='vertical')\n",
    "ax3.set_title('quiz3')\n",
    "\n",
    "ax4 = plt.subplot(5, 3, 3)\n",
    "sns.boxplot(df_image_quiz4['Cost per Results'], orient='vertical')\n",
    "ax4.set_title('quiz4')\n",
    "\n",
    "ax5 = plt.subplot(5, 3, 4)\n",
    "sns.boxplot(df_image_quiz5['Cost per Results'], orient='vertical')\n",
    "ax5.set_title('quiz5')\n",
    "\n",
    "ax6 = plt.subplot(5, 3, 5)\n",
    "sns.boxplot(df_image_quiz6['Cost per Results'], orient='vertical')\n",
    "ax6.set_title('quiz6')\n",
    "\n",
    "ax7 = plt.subplot(5, 3, 6)\n",
    "sns.boxplot(df_image_quiz7['Cost per Results'], orient='vertical')\n",
    "ax7.set_title('quiz7')\n",
    "\n",
    "ax8 = plt.subplot(5, 3, 7)\n",
    "sns.boxplot(df_image_quiz8['Cost per Results'], orient='vertical')\n",
    "ax8.set_title('quiz8')\n",
    "\n",
    "ax9 = plt.subplot(5, 3, 8)\n",
    "sns.boxplot(df_image_quiz9['Cost per Results'], orient='vertical')\n",
    "ax9.set_title('quiz2')\n",
    "\n",
    "ax10 = plt.subplot(5, 3, 9)\n",
    "sns.boxplot(df_image_quiz10['Cost per Results'], orient='vertical')\n",
    "ax3.set_title('quiz10')\n",
    "\n",
    "ax11 = plt.subplot(5, 3, 10)\n",
    "sns.boxplot(df_image_quiz11['Cost per Results'], orient='vertical')\n",
    "ax11.set_title('quiz11')\n",
    "\n",
    "ax12 = plt.subplot(5, 3, 11)\n",
    "sns.boxplot(df_image_quiz12['Cost per Results'], orient='vertical')\n",
    "ax3.set_title('quiz12')\n",
    "\n",
    "ax13 = plt.subplot(5, 3, 12)\n",
    "sns.boxplot(df_image_quiz13['Cost per Results'], orient='vertical')\n",
    "ax13.set_title('quiz13')\n",
    "\n",
    "ax14 = plt.subplot(5, 3, 13)\n",
    "sns.boxplot(df_image_quiz14['Cost per Results'], orient='vertical')\n",
    "ax3.set_title('quiz14')\n",
    "\n",
    "ax15 = plt.subplot(5, 3, 14)\n",
    "sns.boxplot(df_image_quiz15['Cost per Results'], orient='vertical')\n",
    "ax15.set_title('quiz15')\n",
    "\n",
    "ax16 = plt.subplot(5, 3, 15)\n",
    "sns.boxplot(df_image_quiz15['Cost per Results'], orient='vertical')\n",
    "ax16.set_title('quiz16')\n",
    "\n",
    "\n"
   ]
  },
  {
   "cell_type": "markdown",
   "metadata": {},
   "source": [
    "Graficamente é posível verificar que em quase todas as campanhas da categoria Image, Video and SlidShow possuem outliers (anúncios com CPL elebado que elevam o CPL da campanha)"
   ]
  },
  {
   "cell_type": "markdown",
   "metadata": {},
   "source": [
    "Uma estratégia interessante é avaliar e tratar os CPL com valores mais elevados que 2.20(valor mais alto entre as médias do CPL). Adotando essa medida os Anúncios que devem ser reavaliados para otimizar o CPL."
   ]
  }
 ],
 "metadata": {
  "kernelspec": {
   "display_name": "Python [conda env:aceleradev_2020]",
   "language": "python",
   "name": "conda-env-aceleradev_2020-py"
  },
  "language_info": {
   "codemirror_mode": {
    "name": "ipython",
    "version": 3
   },
   "file_extension": ".py",
   "mimetype": "text/x-python",
   "name": "python",
   "nbconvert_exporter": "python",
   "pygments_lexer": "ipython3",
   "version": "3.7.7"
  }
 },
 "nbformat": 4,
 "nbformat_minor": 2
}
